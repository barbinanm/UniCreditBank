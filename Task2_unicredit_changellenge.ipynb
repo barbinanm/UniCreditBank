{
  "cells": [
    {
      "cell_type": "markdown",
      "metadata": {
        "id": "view-in-github",
        "colab_type": "text"
      },
      "source": [
        "<a href=\"https://colab.research.google.com/github/barbinanm/UniCreditBank/blob/main/Task2_unicredit_changellenge.ipynb\" target=\"_parent\"><img src=\"https://colab.research.google.com/assets/colab-badge.svg\" alt=\"Open In Colab\"/></a>"
      ]
    },
    {
      "cell_type": "code",
      "execution_count": null,
      "metadata": {
        "id": "jPLzGztpDP1t"
      },
      "outputs": [],
      "source": [
        "import pandas as pd\n",
        "import numpy as np\n",
        "import matplotlib.pyplot as plt\n",
        "\n",
        "from sklearn.linear_model import LogisticRegression\n",
        "from sklearn.model_selection import cross_val_score\n",
        "\n",
        "import warnings\n",
        "warnings.filterwarnings(\"ignore\")"
      ],
      "id": "jPLzGztpDP1t"
    },
    {
      "cell_type": "code",
      "execution_count": null,
      "metadata": {
        "id": "8giFCwUWDP10"
      },
      "outputs": [],
      "source": [
        "from sklearn.metrics import roc_auc_score\n",
        "\n",
        "def gini_score(y_true, y_pred):\n",
        "    return 2 * roc_auc_score(y_true, y_pred) - 1\n",
        "\n",
        "def gini_scoring(estimator, X, y):\n",
        "    return gini_score(y, estimator.predict_proba(X)[:,1])"
      ],
      "id": "8giFCwUWDP10"
    },
    {
      "cell_type": "markdown",
      "metadata": {
        "id": "ND_zubHbDP11"
      },
      "source": [
        "# Data Load\n",
        "\n",
        "### https://www.kaggle.com/competitions/tabular-playground-series-may-2022"
      ],
      "id": "ND_zubHbDP11"
    },
    {
      "cell_type": "code",
      "execution_count": null,
      "metadata": {
        "id": "v5NIxfNFDP13",
        "outputId": "be64d97d-6f1b-4616-ea20-439857e42fd7"
      },
      "outputs": [
        {
          "data": {
            "text/html": [
              "<div>\n",
              "<style scoped>\n",
              "    .dataframe tbody tr th:only-of-type {\n",
              "        vertical-align: middle;\n",
              "    }\n",
              "\n",
              "    .dataframe tbody tr th {\n",
              "        vertical-align: top;\n",
              "    }\n",
              "\n",
              "    .dataframe thead th {\n",
              "        text-align: right;\n",
              "    }\n",
              "</style>\n",
              "<table border=\"1\" class=\"dataframe\">\n",
              "  <thead>\n",
              "    <tr style=\"text-align: right;\">\n",
              "      <th></th>\n",
              "      <th>id</th>\n",
              "      <th>f_00</th>\n",
              "      <th>f_01</th>\n",
              "      <th>f_02</th>\n",
              "      <th>f_03</th>\n",
              "      <th>f_04</th>\n",
              "      <th>f_05</th>\n",
              "      <th>f_06</th>\n",
              "      <th>f_07</th>\n",
              "      <th>f_08</th>\n",
              "      <th>...</th>\n",
              "      <th>f_22</th>\n",
              "      <th>f_23</th>\n",
              "      <th>f_24</th>\n",
              "      <th>f_25</th>\n",
              "      <th>f_26</th>\n",
              "      <th>f_27</th>\n",
              "      <th>f_28</th>\n",
              "      <th>f_29</th>\n",
              "      <th>f_30</th>\n",
              "      <th>target</th>\n",
              "    </tr>\n",
              "  </thead>\n",
              "  <tbody>\n",
              "    <tr>\n",
              "      <th>0</th>\n",
              "      <td>0</td>\n",
              "      <td>-1.373246</td>\n",
              "      <td>0.238887</td>\n",
              "      <td>-0.243376</td>\n",
              "      <td>0.567405</td>\n",
              "      <td>-0.647715</td>\n",
              "      <td>0.839326</td>\n",
              "      <td>0.113133</td>\n",
              "      <td>1</td>\n",
              "      <td>5</td>\n",
              "      <td>...</td>\n",
              "      <td>-2.540739</td>\n",
              "      <td>0.766952</td>\n",
              "      <td>-2.730628</td>\n",
              "      <td>-0.208177</td>\n",
              "      <td>1.363402</td>\n",
              "      <td>ABABDADBAB</td>\n",
              "      <td>67.609153</td>\n",
              "      <td>0</td>\n",
              "      <td>0</td>\n",
              "      <td>0</td>\n",
              "    </tr>\n",
              "    <tr>\n",
              "      <th>1</th>\n",
              "      <td>1</td>\n",
              "      <td>1.697021</td>\n",
              "      <td>-1.710322</td>\n",
              "      <td>-2.230332</td>\n",
              "      <td>-0.545661</td>\n",
              "      <td>1.113173</td>\n",
              "      <td>-1.552175</td>\n",
              "      <td>0.447825</td>\n",
              "      <td>1</td>\n",
              "      <td>3</td>\n",
              "      <td>...</td>\n",
              "      <td>2.278315</td>\n",
              "      <td>-0.633658</td>\n",
              "      <td>-1.217077</td>\n",
              "      <td>-3.782194</td>\n",
              "      <td>-0.058316</td>\n",
              "      <td>ACACCADCEB</td>\n",
              "      <td>377.096415</td>\n",
              "      <td>0</td>\n",
              "      <td>0</td>\n",
              "      <td>1</td>\n",
              "    </tr>\n",
              "    <tr>\n",
              "      <th>2</th>\n",
              "      <td>2</td>\n",
              "      <td>1.681726</td>\n",
              "      <td>0.616746</td>\n",
              "      <td>-1.027689</td>\n",
              "      <td>0.810492</td>\n",
              "      <td>-0.609086</td>\n",
              "      <td>0.113965</td>\n",
              "      <td>-0.708660</td>\n",
              "      <td>1</td>\n",
              "      <td>0</td>\n",
              "      <td>...</td>\n",
              "      <td>-1.385775</td>\n",
              "      <td>-0.520558</td>\n",
              "      <td>-0.009121</td>\n",
              "      <td>2.788536</td>\n",
              "      <td>-3.703488</td>\n",
              "      <td>AAAEABCKAD</td>\n",
              "      <td>-195.599702</td>\n",
              "      <td>0</td>\n",
              "      <td>2</td>\n",
              "      <td>1</td>\n",
              "    </tr>\n",
              "    <tr>\n",
              "      <th>3</th>\n",
              "      <td>3</td>\n",
              "      <td>-0.118172</td>\n",
              "      <td>-0.587835</td>\n",
              "      <td>-0.804638</td>\n",
              "      <td>2.086822</td>\n",
              "      <td>0.371005</td>\n",
              "      <td>-0.128831</td>\n",
              "      <td>-0.282575</td>\n",
              "      <td>3</td>\n",
              "      <td>2</td>\n",
              "      <td>...</td>\n",
              "      <td>0.572594</td>\n",
              "      <td>-1.653213</td>\n",
              "      <td>1.686035</td>\n",
              "      <td>-2.533098</td>\n",
              "      <td>-0.608601</td>\n",
              "      <td>BDBBAACBCB</td>\n",
              "      <td>210.826205</td>\n",
              "      <td>0</td>\n",
              "      <td>0</td>\n",
              "      <td>1</td>\n",
              "    </tr>\n",
              "    <tr>\n",
              "      <th>4</th>\n",
              "      <td>4</td>\n",
              "      <td>1.148481</td>\n",
              "      <td>-0.176567</td>\n",
              "      <td>-0.664871</td>\n",
              "      <td>-1.101343</td>\n",
              "      <td>0.467875</td>\n",
              "      <td>0.500117</td>\n",
              "      <td>0.407515</td>\n",
              "      <td>3</td>\n",
              "      <td>3</td>\n",
              "      <td>...</td>\n",
              "      <td>-3.912929</td>\n",
              "      <td>-1.430366</td>\n",
              "      <td>2.127649</td>\n",
              "      <td>-3.306784</td>\n",
              "      <td>4.371371</td>\n",
              "      <td>BDBCBBCHFE</td>\n",
              "      <td>-217.211798</td>\n",
              "      <td>0</td>\n",
              "      <td>1</td>\n",
              "      <td>1</td>\n",
              "    </tr>\n",
              "  </tbody>\n",
              "</table>\n",
              "<p>5 rows × 33 columns</p>\n",
              "</div>"
            ],
            "text/plain": [
              "   id      f_00      f_01      f_02      f_03      f_04      f_05      f_06  \\\n",
              "0   0 -1.373246  0.238887 -0.243376  0.567405 -0.647715  0.839326  0.113133   \n",
              "1   1  1.697021 -1.710322 -2.230332 -0.545661  1.113173 -1.552175  0.447825   \n",
              "2   2  1.681726  0.616746 -1.027689  0.810492 -0.609086  0.113965 -0.708660   \n",
              "3   3 -0.118172 -0.587835 -0.804638  2.086822  0.371005 -0.128831 -0.282575   \n",
              "4   4  1.148481 -0.176567 -0.664871 -1.101343  0.467875  0.500117  0.407515   \n",
              "\n",
              "   f_07  f_08  ...      f_22      f_23      f_24      f_25      f_26  \\\n",
              "0     1     5  ... -2.540739  0.766952 -2.730628 -0.208177  1.363402   \n",
              "1     1     3  ...  2.278315 -0.633658 -1.217077 -3.782194 -0.058316   \n",
              "2     1     0  ... -1.385775 -0.520558 -0.009121  2.788536 -3.703488   \n",
              "3     3     2  ...  0.572594 -1.653213  1.686035 -2.533098 -0.608601   \n",
              "4     3     3  ... -3.912929 -1.430366  2.127649 -3.306784  4.371371   \n",
              "\n",
              "         f_27        f_28  f_29  f_30  target  \n",
              "0  ABABDADBAB   67.609153     0     0       0  \n",
              "1  ACACCADCEB  377.096415     0     0       1  \n",
              "2  AAAEABCKAD -195.599702     0     2       1  \n",
              "3  BDBBAACBCB  210.826205     0     0       1  \n",
              "4  BDBCBBCHFE -217.211798     0     1       1  \n",
              "\n",
              "[5 rows x 33 columns]"
            ]
          },
          "execution_count": 3,
          "metadata": {},
          "output_type": "execute_result"
        }
      ],
      "source": [
        "train = pd.read_csv('train.csv')\n",
        "train.head()"
      ],
      "id": "v5NIxfNFDP13"
    },
    {
      "cell_type": "code",
      "execution_count": null,
      "metadata": {
        "id": "OcOI1osxDP15",
        "outputId": "67709288-2840-4a10-8f1f-830f8b5d6e13"
      },
      "outputs": [
        {
          "data": {
            "text/plain": [
              "(900000, 33)"
            ]
          },
          "execution_count": 4,
          "metadata": {},
          "output_type": "execute_result"
        }
      ],
      "source": [
        "train.shape"
      ],
      "id": "OcOI1osxDP15"
    },
    {
      "cell_type": "code",
      "execution_count": null,
      "metadata": {
        "id": "UWSNhB7BDP16",
        "outputId": "9875261c-f64b-42e1-e67e-42a2cec11c99"
      },
      "outputs": [
        {
          "data": {
            "text/plain": [
              "Index(['id', 'f_00', 'f_01', 'f_02', 'f_03', 'f_04', 'f_05', 'f_06', 'f_07',\n",
              "       'f_08', 'f_09', 'f_10', 'f_11', 'f_12', 'f_13', 'f_14', 'f_15', 'f_16',\n",
              "       'f_17', 'f_18', 'f_19', 'f_20', 'f_21', 'f_22', 'f_23', 'f_24', 'f_25',\n",
              "       'f_26', 'f_27', 'f_28', 'f_29', 'f_30', 'target'],\n",
              "      dtype='object')"
            ]
          },
          "execution_count": 5,
          "metadata": {},
          "output_type": "execute_result"
        }
      ],
      "source": [
        "train.columns"
      ],
      "id": "UWSNhB7BDP16"
    },
    {
      "cell_type": "code",
      "execution_count": null,
      "metadata": {
        "id": "vtSarSKmDP16",
        "outputId": "ed54d64c-33b3-4593-d7c1-74a0fdf78042"
      },
      "outputs": [
        {
          "data": {
            "text/plain": [
              "0"
            ]
          },
          "execution_count": 6,
          "metadata": {},
          "output_type": "execute_result"
        }
      ],
      "source": [
        "train.isna().sum().sum()"
      ],
      "id": "vtSarSKmDP16"
    },
    {
      "cell_type": "code",
      "execution_count": null,
      "metadata": {
        "id": "zVoBb9fRDP17",
        "outputId": "2c30a0ca-1d41-434d-cd64-849dc5660545"
      },
      "outputs": [
        {
          "data": {
            "text/plain": [
              "0.4864877777777778"
            ]
          },
          "execution_count": 7,
          "metadata": {},
          "output_type": "execute_result"
        }
      ],
      "source": [
        "idx = train.pop('id')\n",
        "\n",
        "target = train.pop('target')\n",
        "target.mean()"
      ],
      "id": "zVoBb9fRDP17"
    },
    {
      "cell_type": "code",
      "execution_count": null,
      "metadata": {
        "id": "oRolIH-cDP18",
        "outputId": "137bb173-2dff-47e8-cbbc-a9a3412dc5ed"
      },
      "outputs": [
        {
          "data": {
            "text/html": [
              "<div>\n",
              "<style scoped>\n",
              "    .dataframe tbody tr th:only-of-type {\n",
              "        vertical-align: middle;\n",
              "    }\n",
              "\n",
              "    .dataframe tbody tr th {\n",
              "        vertical-align: top;\n",
              "    }\n",
              "\n",
              "    .dataframe thead th {\n",
              "        text-align: right;\n",
              "    }\n",
              "</style>\n",
              "<table border=\"1\" class=\"dataframe\">\n",
              "  <thead>\n",
              "    <tr style=\"text-align: right;\">\n",
              "      <th></th>\n",
              "      <th>f_00</th>\n",
              "      <th>f_01</th>\n",
              "      <th>f_02</th>\n",
              "      <th>f_03</th>\n",
              "      <th>f_04</th>\n",
              "      <th>f_05</th>\n",
              "      <th>f_06</th>\n",
              "      <th>f_07</th>\n",
              "      <th>f_08</th>\n",
              "      <th>f_09</th>\n",
              "      <th>...</th>\n",
              "      <th>f_20</th>\n",
              "      <th>f_21</th>\n",
              "      <th>f_22</th>\n",
              "      <th>f_23</th>\n",
              "      <th>f_24</th>\n",
              "      <th>f_25</th>\n",
              "      <th>f_26</th>\n",
              "      <th>f_28</th>\n",
              "      <th>f_29</th>\n",
              "      <th>f_30</th>\n",
              "    </tr>\n",
              "  </thead>\n",
              "  <tbody>\n",
              "    <tr>\n",
              "      <th>count</th>\n",
              "      <td>900000.000000</td>\n",
              "      <td>900000.000000</td>\n",
              "      <td>900000.000000</td>\n",
              "      <td>900000.000000</td>\n",
              "      <td>900000.000000</td>\n",
              "      <td>900000.000000</td>\n",
              "      <td>900000.000000</td>\n",
              "      <td>900000.000000</td>\n",
              "      <td>900000.000000</td>\n",
              "      <td>900000.000000</td>\n",
              "      <td>...</td>\n",
              "      <td>900000.000000</td>\n",
              "      <td>900000.000000</td>\n",
              "      <td>900000.000000</td>\n",
              "      <td>900000.000000</td>\n",
              "      <td>900000.000000</td>\n",
              "      <td>900000.000000</td>\n",
              "      <td>900000.000000</td>\n",
              "      <td>900000.000000</td>\n",
              "      <td>900000.000000</td>\n",
              "      <td>900000.000000</td>\n",
              "    </tr>\n",
              "    <tr>\n",
              "      <th>mean</th>\n",
              "      <td>-0.000286</td>\n",
              "      <td>0.001165</td>\n",
              "      <td>0.001174</td>\n",
              "      <td>-0.001368</td>\n",
              "      <td>-0.000571</td>\n",
              "      <td>0.000284</td>\n",
              "      <td>-0.000709</td>\n",
              "      <td>2.031460</td>\n",
              "      <td>2.057998</td>\n",
              "      <td>2.362431</td>\n",
              "      <td>...</td>\n",
              "      <td>-0.178730</td>\n",
              "      <td>-0.156307</td>\n",
              "      <td>-0.009273</td>\n",
              "      <td>-0.369459</td>\n",
              "      <td>-0.342738</td>\n",
              "      <td>0.176549</td>\n",
              "      <td>0.357591</td>\n",
              "      <td>-0.380876</td>\n",
              "      <td>0.345661</td>\n",
              "      <td>1.002654</td>\n",
              "    </tr>\n",
              "    <tr>\n",
              "      <th>std</th>\n",
              "      <td>0.998888</td>\n",
              "      <td>0.999193</td>\n",
              "      <td>1.000514</td>\n",
              "      <td>1.000175</td>\n",
              "      <td>1.000167</td>\n",
              "      <td>0.999875</td>\n",
              "      <td>0.999942</td>\n",
              "      <td>1.656172</td>\n",
              "      <td>1.590955</td>\n",
              "      <td>1.637706</td>\n",
              "      <td>...</td>\n",
              "      <td>2.400494</td>\n",
              "      <td>2.484706</td>\n",
              "      <td>2.450797</td>\n",
              "      <td>2.453405</td>\n",
              "      <td>2.386941</td>\n",
              "      <td>2.416959</td>\n",
              "      <td>2.476020</td>\n",
              "      <td>238.773054</td>\n",
              "      <td>0.475584</td>\n",
              "      <td>0.818989</td>\n",
              "    </tr>\n",
              "    <tr>\n",
              "      <th>min</th>\n",
              "      <td>-4.599856</td>\n",
              "      <td>-4.682199</td>\n",
              "      <td>-4.642676</td>\n",
              "      <td>-4.658816</td>\n",
              "      <td>-4.748501</td>\n",
              "      <td>-4.750214</td>\n",
              "      <td>-4.842919</td>\n",
              "      <td>0.000000</td>\n",
              "      <td>0.000000</td>\n",
              "      <td>0.000000</td>\n",
              "      <td>...</td>\n",
              "      <td>-11.257917</td>\n",
              "      <td>-13.310146</td>\n",
              "      <td>-11.853530</td>\n",
              "      <td>-12.301097</td>\n",
              "      <td>-11.416189</td>\n",
              "      <td>-11.918306</td>\n",
              "      <td>-14.300577</td>\n",
              "      <td>-1229.753052</td>\n",
              "      <td>0.000000</td>\n",
              "      <td>0.000000</td>\n",
              "    </tr>\n",
              "    <tr>\n",
              "      <th>25%</th>\n",
              "      <td>-0.675490</td>\n",
              "      <td>-0.675162</td>\n",
              "      <td>-0.674369</td>\n",
              "      <td>-0.676114</td>\n",
              "      <td>-0.675909</td>\n",
              "      <td>-0.673437</td>\n",
              "      <td>-0.674876</td>\n",
              "      <td>1.000000</td>\n",
              "      <td>1.000000</td>\n",
              "      <td>1.000000</td>\n",
              "      <td>...</td>\n",
              "      <td>-1.804612</td>\n",
              "      <td>-1.820063</td>\n",
              "      <td>-1.645585</td>\n",
              "      <td>-2.019739</td>\n",
              "      <td>-1.955956</td>\n",
              "      <td>-1.440424</td>\n",
              "      <td>-1.261598</td>\n",
              "      <td>-159.427418</td>\n",
              "      <td>0.000000</td>\n",
              "      <td>0.000000</td>\n",
              "    </tr>\n",
              "    <tr>\n",
              "      <th>50%</th>\n",
              "      <td>0.001144</td>\n",
              "      <td>0.002014</td>\n",
              "      <td>0.002218</td>\n",
              "      <td>-0.002227</td>\n",
              "      <td>-0.001662</td>\n",
              "      <td>-0.000438</td>\n",
              "      <td>-0.001492</td>\n",
              "      <td>2.000000</td>\n",
              "      <td>2.000000</td>\n",
              "      <td>2.000000</td>\n",
              "      <td>...</td>\n",
              "      <td>-0.190571</td>\n",
              "      <td>-0.152668</td>\n",
              "      <td>0.030850</td>\n",
              "      <td>-0.390966</td>\n",
              "      <td>-0.340746</td>\n",
              "      <td>0.160912</td>\n",
              "      <td>0.404212</td>\n",
              "      <td>-0.519808</td>\n",
              "      <td>0.000000</td>\n",
              "      <td>1.000000</td>\n",
              "    </tr>\n",
              "    <tr>\n",
              "      <th>75%</th>\n",
              "      <td>0.674337</td>\n",
              "      <td>0.675021</td>\n",
              "      <td>0.677505</td>\n",
              "      <td>0.672544</td>\n",
              "      <td>0.673789</td>\n",
              "      <td>0.675028</td>\n",
              "      <td>0.674749</td>\n",
              "      <td>3.000000</td>\n",
              "      <td>3.000000</td>\n",
              "      <td>3.000000</td>\n",
              "      <td>...</td>\n",
              "      <td>1.444508</td>\n",
              "      <td>1.507071</td>\n",
              "      <td>1.661676</td>\n",
              "      <td>1.255408</td>\n",
              "      <td>1.266673</td>\n",
              "      <td>1.795928</td>\n",
              "      <td>2.028219</td>\n",
              "      <td>158.987357</td>\n",
              "      <td>1.000000</td>\n",
              "      <td>2.000000</td>\n",
              "    </tr>\n",
              "    <tr>\n",
              "      <th>max</th>\n",
              "      <td>4.749301</td>\n",
              "      <td>4.815699</td>\n",
              "      <td>4.961982</td>\n",
              "      <td>4.454920</td>\n",
              "      <td>4.948983</td>\n",
              "      <td>4.971881</td>\n",
              "      <td>4.822668</td>\n",
              "      <td>15.000000</td>\n",
              "      <td>16.000000</td>\n",
              "      <td>14.000000</td>\n",
              "      <td>...</td>\n",
              "      <td>11.475325</td>\n",
              "      <td>14.455426</td>\n",
              "      <td>11.344080</td>\n",
              "      <td>12.247100</td>\n",
              "      <td>12.389844</td>\n",
              "      <td>12.529179</td>\n",
              "      <td>12.913041</td>\n",
              "      <td>1229.562577</td>\n",
              "      <td>1.000000</td>\n",
              "      <td>2.000000</td>\n",
              "    </tr>\n",
              "  </tbody>\n",
              "</table>\n",
              "<p>8 rows × 30 columns</p>\n",
              "</div>"
            ],
            "text/plain": [
              "                f_00           f_01           f_02           f_03  \\\n",
              "count  900000.000000  900000.000000  900000.000000  900000.000000   \n",
              "mean       -0.000286       0.001165       0.001174      -0.001368   \n",
              "std         0.998888       0.999193       1.000514       1.000175   \n",
              "min        -4.599856      -4.682199      -4.642676      -4.658816   \n",
              "25%        -0.675490      -0.675162      -0.674369      -0.676114   \n",
              "50%         0.001144       0.002014       0.002218      -0.002227   \n",
              "75%         0.674337       0.675021       0.677505       0.672544   \n",
              "max         4.749301       4.815699       4.961982       4.454920   \n",
              "\n",
              "                f_04           f_05           f_06           f_07  \\\n",
              "count  900000.000000  900000.000000  900000.000000  900000.000000   \n",
              "mean       -0.000571       0.000284      -0.000709       2.031460   \n",
              "std         1.000167       0.999875       0.999942       1.656172   \n",
              "min        -4.748501      -4.750214      -4.842919       0.000000   \n",
              "25%        -0.675909      -0.673437      -0.674876       1.000000   \n",
              "50%        -0.001662      -0.000438      -0.001492       2.000000   \n",
              "75%         0.673789       0.675028       0.674749       3.000000   \n",
              "max         4.948983       4.971881       4.822668      15.000000   \n",
              "\n",
              "                f_08           f_09  ...           f_20           f_21  \\\n",
              "count  900000.000000  900000.000000  ...  900000.000000  900000.000000   \n",
              "mean        2.057998       2.362431  ...      -0.178730      -0.156307   \n",
              "std         1.590955       1.637706  ...       2.400494       2.484706   \n",
              "min         0.000000       0.000000  ...     -11.257917     -13.310146   \n",
              "25%         1.000000       1.000000  ...      -1.804612      -1.820063   \n",
              "50%         2.000000       2.000000  ...      -0.190571      -0.152668   \n",
              "75%         3.000000       3.000000  ...       1.444508       1.507071   \n",
              "max        16.000000      14.000000  ...      11.475325      14.455426   \n",
              "\n",
              "                f_22           f_23           f_24           f_25  \\\n",
              "count  900000.000000  900000.000000  900000.000000  900000.000000   \n",
              "mean       -0.009273      -0.369459      -0.342738       0.176549   \n",
              "std         2.450797       2.453405       2.386941       2.416959   \n",
              "min       -11.853530     -12.301097     -11.416189     -11.918306   \n",
              "25%        -1.645585      -2.019739      -1.955956      -1.440424   \n",
              "50%         0.030850      -0.390966      -0.340746       0.160912   \n",
              "75%         1.661676       1.255408       1.266673       1.795928   \n",
              "max        11.344080      12.247100      12.389844      12.529179   \n",
              "\n",
              "                f_26           f_28           f_29           f_30  \n",
              "count  900000.000000  900000.000000  900000.000000  900000.000000  \n",
              "mean        0.357591      -0.380876       0.345661       1.002654  \n",
              "std         2.476020     238.773054       0.475584       0.818989  \n",
              "min       -14.300577   -1229.753052       0.000000       0.000000  \n",
              "25%        -1.261598    -159.427418       0.000000       0.000000  \n",
              "50%         0.404212      -0.519808       0.000000       1.000000  \n",
              "75%         2.028219     158.987357       1.000000       2.000000  \n",
              "max        12.913041    1229.562577       1.000000       2.000000  \n",
              "\n",
              "[8 rows x 30 columns]"
            ]
          },
          "execution_count": 8,
          "metadata": {},
          "output_type": "execute_result"
        }
      ],
      "source": [
        "train_desc = train.describe()\n",
        "train_desc"
      ],
      "id": "oRolIH-cDP18"
    },
    {
      "cell_type": "code",
      "execution_count": null,
      "metadata": {
        "id": "SQGakgheDP19"
      },
      "outputs": [],
      "source": [
        "text_feat = train.pop('f_27')"
      ],
      "id": "SQGakgheDP19"
    },
    {
      "cell_type": "code",
      "execution_count": null,
      "metadata": {
        "id": "sW3QdpB0DP19",
        "outputId": "d5052df3-07b6-4d05-bfe8-a3da851b3cf8"
      },
      "outputs": [
        {
          "data": {
            "text/plain": [
              "741354"
            ]
          },
          "execution_count": 10,
          "metadata": {},
          "output_type": "execute_result"
        }
      ],
      "source": [
        "text_feat.nunique()"
      ],
      "id": "sW3QdpB0DP19"
    },
    {
      "cell_type": "code",
      "execution_count": null,
      "metadata": {
        "id": "eV0KeqO7DP19",
        "outputId": "95544465-5915-491a-ee46-29d6b529dc7c"
      },
      "outputs": [
        {
          "data": {
            "text/plain": [
              "BBBBBBCJBC    12\n",
              "BCBBBBCLBC    12\n",
              "BBBBBBDPCB    10\n",
              "BBBBBBDKBC    10\n",
              "ADBBBACQBC    10\n",
              "              ..\n",
              "BFAFAADTCE     1\n",
              "BBBDAACOAE     1\n",
              "BBABAACGBB     1\n",
              "BFAABAGSDB     1\n",
              "BCAACADSCE     1\n",
              "Name: f_27, Length: 741354, dtype: int64"
            ]
          },
          "execution_count": 11,
          "metadata": {},
          "output_type": "execute_result"
        }
      ],
      "source": [
        "text_feat.value_counts()"
      ],
      "id": "eV0KeqO7DP19"
    },
    {
      "cell_type": "code",
      "execution_count": null,
      "metadata": {
        "id": "Zoyi-zCLDP1-",
        "outputId": "76e31837-428a-4af4-8aa5-d16dbde8b84f"
      },
      "outputs": [
        {
          "data": {
            "image/png": "[encoded data removed]",
            "text/plain": [
              "<Figure size 1440x1440 with 30 Axes>"
            ]
          },
          "metadata": {
            "needs_background": "light"
          },
          "output_type": "display_data"
        }
      ],
      "source": [
        "train.hist(figsize=(20,20), bins=100)\n",
        "plt.show()"
      ],
      "id": "Zoyi-zCLDP1-"
    },
    {
      "cell_type": "markdown",
      "metadata": {
        "id": "5y_8Im_4DP1-"
      },
      "source": [
        "# Elementary preprocessing by Weight of Evidence technique\n",
        "\n",
        "### https://towardsdatascience.com/churn-analysis-information-value-and-weight-of-evidence-6a35db8b9ec5\n",
        "### https://gnpalencia.org/optbinning/binning_binary.html"
      ],
      "id": "5y_8Im_4DP1-"
    },
    {
      "cell_type": "code",
      "execution_count": null,
      "metadata": {
        "id": "YgQkh5ZeDP1_",
        "outputId": "25fbae54-a205-4519-f8b6-c1bea690cbba"
      },
      "outputs": [
        {
          "data": {
            "text/html": [
              "<div>\n",
              "<style scoped>\n",
              "    .dataframe tbody tr th:only-of-type {\n",
              "        vertical-align: middle;\n",
              "    }\n",
              "\n",
              "    .dataframe tbody tr th {\n",
              "        vertical-align: top;\n",
              "    }\n",
              "\n",
              "    .dataframe thead th {\n",
              "        text-align: right;\n",
              "    }\n",
              "</style>\n",
              "<table border=\"1\" class=\"dataframe\">\n",
              "  <thead>\n",
              "    <tr style=\"text-align: right;\">\n",
              "      <th></th>\n",
              "      <th>f_00</th>\n",
              "      <th>f_01</th>\n",
              "      <th>f_02</th>\n",
              "      <th>f_03</th>\n",
              "      <th>f_04</th>\n",
              "      <th>f_05</th>\n",
              "      <th>f_06</th>\n",
              "      <th>f_07</th>\n",
              "      <th>f_08</th>\n",
              "      <th>f_09</th>\n",
              "      <th>...</th>\n",
              "      <th>f_20_WoE</th>\n",
              "      <th>f_21_WoE</th>\n",
              "      <th>f_22_WoE</th>\n",
              "      <th>f_23_WoE</th>\n",
              "      <th>f_24_WoE</th>\n",
              "      <th>f_25_WoE</th>\n",
              "      <th>f_26_WoE</th>\n",
              "      <th>f_28_WoE</th>\n",
              "      <th>f_29_WoE</th>\n",
              "      <th>f_30_WoE</th>\n",
              "    </tr>\n",
              "  </thead>\n",
              "  <tbody>\n",
              "    <tr>\n",
              "      <th>0</th>\n",
              "      <td>-1.373246</td>\n",
              "      <td>0.238887</td>\n",
              "      <td>-0.243376</td>\n",
              "      <td>0.567405</td>\n",
              "      <td>-0.647715</td>\n",
              "      <td>0.839326</td>\n",
              "      <td>0.113133</td>\n",
              "      <td>1</td>\n",
              "      <td>5</td>\n",
              "      <td>1</td>\n",
              "      <td>...</td>\n",
              "      <td>-0.062305</td>\n",
              "      <td>-0.244353</td>\n",
              "      <td>0.041040</td>\n",
              "      <td>-0.044964</td>\n",
              "      <td>0.230179</td>\n",
              "      <td>-0.100358</td>\n",
              "      <td>0.039296</td>\n",
              "      <td>0.102745</td>\n",
              "      <td>0.074717</td>\n",
              "      <td>0.039399</td>\n",
              "    </tr>\n",
              "    <tr>\n",
              "      <th>1</th>\n",
              "      <td>1.697021</td>\n",
              "      <td>-1.710322</td>\n",
              "      <td>-2.230332</td>\n",
              "      <td>-0.545661</td>\n",
              "      <td>1.113173</td>\n",
              "      <td>-1.552175</td>\n",
              "      <td>0.447825</td>\n",
              "      <td>1</td>\n",
              "      <td>3</td>\n",
              "      <td>4</td>\n",
              "      <td>...</td>\n",
              "      <td>-0.092246</td>\n",
              "      <td>-0.126513</td>\n",
              "      <td>-0.037681</td>\n",
              "      <td>0.102869</td>\n",
              "      <td>0.082542</td>\n",
              "      <td>0.073265</td>\n",
              "      <td>0.039296</td>\n",
              "      <td>-0.480416</td>\n",
              "      <td>0.074717</td>\n",
              "      <td>0.039399</td>\n",
              "    </tr>\n",
              "    <tr>\n",
              "      <th>2</th>\n",
              "      <td>1.681726</td>\n",
              "      <td>0.616746</td>\n",
              "      <td>-1.027689</td>\n",
              "      <td>0.810492</td>\n",
              "      <td>-0.609086</td>\n",
              "      <td>0.113965</td>\n",
              "      <td>-0.708660</td>\n",
              "      <td>1</td>\n",
              "      <td>0</td>\n",
              "      <td>2</td>\n",
              "      <td>...</td>\n",
              "      <td>-0.084470</td>\n",
              "      <td>0.043655</td>\n",
              "      <td>0.017273</td>\n",
              "      <td>0.102869</td>\n",
              "      <td>-0.047777</td>\n",
              "      <td>0.094924</td>\n",
              "      <td>0.039296</td>\n",
              "      <td>0.091741</td>\n",
              "      <td>0.074717</td>\n",
              "      <td>-0.061744</td>\n",
              "    </tr>\n",
              "    <tr>\n",
              "      <th>3</th>\n",
              "      <td>-0.118172</td>\n",
              "      <td>-0.587835</td>\n",
              "      <td>-0.804638</td>\n",
              "      <td>2.086822</td>\n",
              "      <td>0.371005</td>\n",
              "      <td>-0.128831</td>\n",
              "      <td>-0.282575</td>\n",
              "      <td>3</td>\n",
              "      <td>2</td>\n",
              "      <td>1</td>\n",
              "      <td>...</td>\n",
              "      <td>-0.094615</td>\n",
              "      <td>0.078049</td>\n",
              "      <td>-0.032022</td>\n",
              "      <td>0.232954</td>\n",
              "      <td>-0.178592</td>\n",
              "      <td>-0.050866</td>\n",
              "      <td>0.039296</td>\n",
              "      <td>-0.038393</td>\n",
              "      <td>0.074717</td>\n",
              "      <td>0.039399</td>\n",
              "    </tr>\n",
              "    <tr>\n",
              "      <th>4</th>\n",
              "      <td>1.148481</td>\n",
              "      <td>-0.176567</td>\n",
              "      <td>-0.664871</td>\n",
              "      <td>-1.101343</td>\n",
              "      <td>0.467875</td>\n",
              "      <td>0.500117</td>\n",
              "      <td>0.407515</td>\n",
              "      <td>3</td>\n",
              "      <td>3</td>\n",
              "      <td>0</td>\n",
              "      <td>...</td>\n",
              "      <td>0.013765</td>\n",
              "      <td>-0.078289</td>\n",
              "      <td>0.058452</td>\n",
              "      <td>0.181204</td>\n",
              "      <td>-0.246168</td>\n",
              "      <td>0.073265</td>\n",
              "      <td>-0.831400</td>\n",
              "      <td>0.091741</td>\n",
              "      <td>0.074717</td>\n",
              "      <td>0.023236</td>\n",
              "    </tr>\n",
              "  </tbody>\n",
              "</table>\n",
              "<p>5 rows × 60 columns</p>\n",
              "</div>"
            ],
            "text/plain": [
              "       f_00      f_01      f_02      f_03      f_04      f_05      f_06  f_07  \\\n",
              "0 -1.373246  0.238887 -0.243376  0.567405 -0.647715  0.839326  0.113133     1   \n",
              "1  1.697021 -1.710322 -2.230332 -0.545661  1.113173 -1.552175  0.447825     1   \n",
              "2  1.681726  0.616746 -1.027689  0.810492 -0.609086  0.113965 -0.708660     1   \n",
              "3 -0.118172 -0.587835 -0.804638  2.086822  0.371005 -0.128831 -0.282575     3   \n",
              "4  1.148481 -0.176567 -0.664871 -1.101343  0.467875  0.500117  0.407515     3   \n",
              "\n",
              "   f_08  f_09  ...  f_20_WoE  f_21_WoE  f_22_WoE  f_23_WoE  f_24_WoE  \\\n",
              "0     5     1  ... -0.062305 -0.244353  0.041040 -0.044964  0.230179   \n",
              "1     3     4  ... -0.092246 -0.126513 -0.037681  0.102869  0.082542   \n",
              "2     0     2  ... -0.084470  0.043655  0.017273  0.102869 -0.047777   \n",
              "3     2     1  ... -0.094615  0.078049 -0.032022  0.232954 -0.178592   \n",
              "4     3     0  ...  0.013765 -0.078289  0.058452  0.181204 -0.246168   \n",
              "\n",
              "   f_25_WoE  f_26_WoE  f_28_WoE  f_29_WoE  f_30_WoE  \n",
              "0 -0.100358  0.039296  0.102745  0.074717  0.039399  \n",
              "1  0.073265  0.039296 -0.480416  0.074717  0.039399  \n",
              "2  0.094924  0.039296  0.091741  0.074717 -0.061744  \n",
              "3 -0.050866  0.039296 -0.038393  0.074717  0.039399  \n",
              "4  0.073265 -0.831400  0.091741  0.074717  0.023236  \n",
              "\n",
              "[5 rows x 60 columns]"
            ]
          },
          "execution_count": 13,
          "metadata": {},
          "output_type": "execute_result"
        }
      ],
      "source": [
        "from optbinning import OptimalBinning\n",
        "\n",
        "optbin = OptimalBinning()\n",
        "for i in train.columns[0:]:\n",
        "    new_column_name = i + '_WoE'\n",
        "    train[new_column_name] = optbin.fit_transform(train[i], target)\n",
        "train.head()"
      ],
      "id": "YgQkh5ZeDP1_"
    },
    {
      "cell_type": "code",
      "execution_count": null,
      "metadata": {
        "id": "JmlVllOHDP1_",
        "outputId": "7e1ce446-4f40-4fb9-cdf3-19af8893b630"
      },
      "outputs": [
        {
          "data": {
            "text/html": [
              "<div>\n",
              "<style scoped>\n",
              "    .dataframe tbody tr th:only-of-type {\n",
              "        vertical-align: middle;\n",
              "    }\n",
              "\n",
              "    .dataframe tbody tr th {\n",
              "        vertical-align: top;\n",
              "    }\n",
              "\n",
              "    .dataframe thead th {\n",
              "        text-align: right;\n",
              "    }\n",
              "</style>\n",
              "<table border=\"1\" class=\"dataframe\">\n",
              "  <thead>\n",
              "    <tr style=\"text-align: right;\">\n",
              "      <th></th>\n",
              "      <th>f_00</th>\n",
              "      <th>f_01</th>\n",
              "      <th>f_02</th>\n",
              "      <th>f_03</th>\n",
              "      <th>f_04</th>\n",
              "      <th>f_05</th>\n",
              "      <th>f_06</th>\n",
              "      <th>f_07</th>\n",
              "      <th>f_08</th>\n",
              "      <th>f_09</th>\n",
              "      <th>...</th>\n",
              "      <th>f_20</th>\n",
              "      <th>f_21</th>\n",
              "      <th>f_22</th>\n",
              "      <th>f_23</th>\n",
              "      <th>f_24</th>\n",
              "      <th>f_25</th>\n",
              "      <th>f_26</th>\n",
              "      <th>f_28</th>\n",
              "      <th>f_29</th>\n",
              "      <th>f_30</th>\n",
              "    </tr>\n",
              "  </thead>\n",
              "  <tbody>\n",
              "    <tr>\n",
              "      <th>count</th>\n",
              "      <td>900000.000000</td>\n",
              "      <td>900000.000000</td>\n",
              "      <td>900000.000000</td>\n",
              "      <td>900000.000000</td>\n",
              "      <td>900000.000000</td>\n",
              "      <td>900000.000000</td>\n",
              "      <td>900000.000000</td>\n",
              "      <td>900000.000000</td>\n",
              "      <td>900000.000000</td>\n",
              "      <td>900000.000000</td>\n",
              "      <td>...</td>\n",
              "      <td>900000.000000</td>\n",
              "      <td>900000.000000</td>\n",
              "      <td>900000.000000</td>\n",
              "      <td>900000.000000</td>\n",
              "      <td>900000.000000</td>\n",
              "      <td>900000.000000</td>\n",
              "      <td>900000.000000</td>\n",
              "      <td>900000.000000</td>\n",
              "      <td>900000.000000</td>\n",
              "      <td>900000.000000</td>\n",
              "    </tr>\n",
              "    <tr>\n",
              "      <th>mean</th>\n",
              "      <td>-0.000286</td>\n",
              "      <td>0.001165</td>\n",
              "      <td>0.001174</td>\n",
              "      <td>-0.001368</td>\n",
              "      <td>-0.000571</td>\n",
              "      <td>0.000284</td>\n",
              "      <td>-0.000709</td>\n",
              "      <td>2.031460</td>\n",
              "      <td>2.057998</td>\n",
              "      <td>2.362431</td>\n",
              "      <td>...</td>\n",
              "      <td>-0.178730</td>\n",
              "      <td>-0.156307</td>\n",
              "      <td>-0.009273</td>\n",
              "      <td>-0.369459</td>\n",
              "      <td>-0.342738</td>\n",
              "      <td>0.176549</td>\n",
              "      <td>0.357591</td>\n",
              "      <td>-0.380876</td>\n",
              "      <td>0.345661</td>\n",
              "      <td>1.002654</td>\n",
              "    </tr>\n",
              "    <tr>\n",
              "      <th>std</th>\n",
              "      <td>0.998888</td>\n",
              "      <td>0.999193</td>\n",
              "      <td>1.000514</td>\n",
              "      <td>1.000175</td>\n",
              "      <td>1.000167</td>\n",
              "      <td>0.999875</td>\n",
              "      <td>0.999942</td>\n",
              "      <td>1.656172</td>\n",
              "      <td>1.590955</td>\n",
              "      <td>1.637706</td>\n",
              "      <td>...</td>\n",
              "      <td>2.400494</td>\n",
              "      <td>2.484706</td>\n",
              "      <td>2.450797</td>\n",
              "      <td>2.453405</td>\n",
              "      <td>2.386941</td>\n",
              "      <td>2.416959</td>\n",
              "      <td>2.476020</td>\n",
              "      <td>238.773054</td>\n",
              "      <td>0.475584</td>\n",
              "      <td>0.818989</td>\n",
              "    </tr>\n",
              "    <tr>\n",
              "      <th>min</th>\n",
              "      <td>-4.599856</td>\n",
              "      <td>-4.682199</td>\n",
              "      <td>-4.642676</td>\n",
              "      <td>-4.658816</td>\n",
              "      <td>-4.748501</td>\n",
              "      <td>-4.750214</td>\n",
              "      <td>-4.842919</td>\n",
              "      <td>0.000000</td>\n",
              "      <td>0.000000</td>\n",
              "      <td>0.000000</td>\n",
              "      <td>...</td>\n",
              "      <td>-11.257917</td>\n",
              "      <td>-13.310146</td>\n",
              "      <td>-11.853530</td>\n",
              "      <td>-12.301097</td>\n",
              "      <td>-11.416189</td>\n",
              "      <td>-11.918306</td>\n",
              "      <td>-14.300577</td>\n",
              "      <td>-1229.753052</td>\n",
              "      <td>0.000000</td>\n",
              "      <td>0.000000</td>\n",
              "    </tr>\n",
              "    <tr>\n",
              "      <th>25%</th>\n",
              "      <td>-0.675490</td>\n",
              "      <td>-0.675162</td>\n",
              "      <td>-0.674369</td>\n",
              "      <td>-0.676114</td>\n",
              "      <td>-0.675909</td>\n",
              "      <td>-0.673437</td>\n",
              "      <td>-0.674876</td>\n",
              "      <td>1.000000</td>\n",
              "      <td>1.000000</td>\n",
              "      <td>1.000000</td>\n",
              "      <td>...</td>\n",
              "      <td>-1.804612</td>\n",
              "      <td>-1.820063</td>\n",
              "      <td>-1.645585</td>\n",
              "      <td>-2.019739</td>\n",
              "      <td>-1.955956</td>\n",
              "      <td>-1.440424</td>\n",
              "      <td>-1.261598</td>\n",
              "      <td>-159.427418</td>\n",
              "      <td>0.000000</td>\n",
              "      <td>0.000000</td>\n",
              "    </tr>\n",
              "    <tr>\n",
              "      <th>50%</th>\n",
              "      <td>0.001144</td>\n",
              "      <td>0.002014</td>\n",
              "      <td>0.002218</td>\n",
              "      <td>-0.002227</td>\n",
              "      <td>-0.001662</td>\n",
              "      <td>-0.000438</td>\n",
              "      <td>-0.001492</td>\n",
              "      <td>2.000000</td>\n",
              "      <td>2.000000</td>\n",
              "      <td>2.000000</td>\n",
              "      <td>...</td>\n",
              "      <td>-0.190571</td>\n",
              "      <td>-0.152668</td>\n",
              "      <td>0.030850</td>\n",
              "      <td>-0.390966</td>\n",
              "      <td>-0.340746</td>\n",
              "      <td>0.160912</td>\n",
              "      <td>0.404212</td>\n",
              "      <td>-0.519808</td>\n",
              "      <td>0.000000</td>\n",
              "      <td>1.000000</td>\n",
              "    </tr>\n",
              "    <tr>\n",
              "      <th>75%</th>\n",
              "      <td>0.674337</td>\n",
              "      <td>0.675021</td>\n",
              "      <td>0.677505</td>\n",
              "      <td>0.672544</td>\n",
              "      <td>0.673789</td>\n",
              "      <td>0.675028</td>\n",
              "      <td>0.674749</td>\n",
              "      <td>3.000000</td>\n",
              "      <td>3.000000</td>\n",
              "      <td>3.000000</td>\n",
              "      <td>...</td>\n",
              "      <td>1.444508</td>\n",
              "      <td>1.507071</td>\n",
              "      <td>1.661676</td>\n",
              "      <td>1.255408</td>\n",
              "      <td>1.266673</td>\n",
              "      <td>1.795928</td>\n",
              "      <td>2.028219</td>\n",
              "      <td>158.987357</td>\n",
              "      <td>1.000000</td>\n",
              "      <td>2.000000</td>\n",
              "    </tr>\n",
              "    <tr>\n",
              "      <th>max</th>\n",
              "      <td>4.749301</td>\n",
              "      <td>4.815699</td>\n",
              "      <td>4.961982</td>\n",
              "      <td>4.454920</td>\n",
              "      <td>4.948983</td>\n",
              "      <td>4.971881</td>\n",
              "      <td>4.822668</td>\n",
              "      <td>15.000000</td>\n",
              "      <td>16.000000</td>\n",
              "      <td>14.000000</td>\n",
              "      <td>...</td>\n",
              "      <td>11.475325</td>\n",
              "      <td>14.455426</td>\n",
              "      <td>11.344080</td>\n",
              "      <td>12.247100</td>\n",
              "      <td>12.389844</td>\n",
              "      <td>12.529179</td>\n",
              "      <td>12.913041</td>\n",
              "      <td>1229.562577</td>\n",
              "      <td>1.000000</td>\n",
              "      <td>2.000000</td>\n",
              "    </tr>\n",
              "    <tr>\n",
              "      <th>GINI</th>\n",
              "      <td>0.061267</td>\n",
              "      <td>0.060934</td>\n",
              "      <td>0.034563</td>\n",
              "      <td>-0.000044</td>\n",
              "      <td>0.000068</td>\n",
              "      <td>0.035976</td>\n",
              "      <td>-0.000892</td>\n",
              "      <td>0.010979</td>\n",
              "      <td>0.057267</td>\n",
              "      <td>0.072843</td>\n",
              "      <td>...</td>\n",
              "      <td>-0.043724</td>\n",
              "      <td>0.128521</td>\n",
              "      <td>0.060849</td>\n",
              "      <td>0.097623</td>\n",
              "      <td>0.103323</td>\n",
              "      <td>-0.035372</td>\n",
              "      <td>0.042407</td>\n",
              "      <td>0.040419</td>\n",
              "      <td>0.048818</td>\n",
              "      <td>0.022576</td>\n",
              "    </tr>\n",
              "    <tr>\n",
              "      <th>GINI_WoE</th>\n",
              "      <td>-0.061232</td>\n",
              "      <td>-0.060959</td>\n",
              "      <td>-0.034851</td>\n",
              "      <td>-0.001428</td>\n",
              "      <td>-0.003272</td>\n",
              "      <td>-0.036130</td>\n",
              "      <td>-0.002202</td>\n",
              "      <td>-0.017163</td>\n",
              "      <td>-0.070877</td>\n",
              "      <td>-0.072333</td>\n",
              "      <td>...</td>\n",
              "      <td>-0.050502</td>\n",
              "      <td>-0.127494</td>\n",
              "      <td>-0.060422</td>\n",
              "      <td>-0.115567</td>\n",
              "      <td>-0.103579</td>\n",
              "      <td>-0.055337</td>\n",
              "      <td>-0.071637</td>\n",
              "      <td>-0.092741</td>\n",
              "      <td>-0.048818</td>\n",
              "      <td>-0.022576</td>\n",
              "    </tr>\n",
              "  </tbody>\n",
              "</table>\n",
              "<p>10 rows × 30 columns</p>\n",
              "</div>"
            ],
            "text/plain": [
              "                   f_00           f_01           f_02           f_03  \\\n",
              "count     900000.000000  900000.000000  900000.000000  900000.000000   \n",
              "mean          -0.000286       0.001165       0.001174      -0.001368   \n",
              "std            0.998888       0.999193       1.000514       1.000175   \n",
              "min           -4.599856      -4.682199      -4.642676      -4.658816   \n",
              "25%           -0.675490      -0.675162      -0.674369      -0.676114   \n",
              "50%            0.001144       0.002014       0.002218      -0.002227   \n",
              "75%            0.674337       0.675021       0.677505       0.672544   \n",
              "max            4.749301       4.815699       4.961982       4.454920   \n",
              "GINI           0.061267       0.060934       0.034563      -0.000044   \n",
              "GINI_WoE      -0.061232      -0.060959      -0.034851      -0.001428   \n",
              "\n",
              "                   f_04           f_05           f_06           f_07  \\\n",
              "count     900000.000000  900000.000000  900000.000000  900000.000000   \n",
              "mean          -0.000571       0.000284      -0.000709       2.031460   \n",
              "std            1.000167       0.999875       0.999942       1.656172   \n",
              "min           -4.748501      -4.750214      -4.842919       0.000000   \n",
              "25%           -0.675909      -0.673437      -0.674876       1.000000   \n",
              "50%           -0.001662      -0.000438      -0.001492       2.000000   \n",
              "75%            0.673789       0.675028       0.674749       3.000000   \n",
              "max            4.948983       4.971881       4.822668      15.000000   \n",
              "GINI           0.000068       0.035976      -0.000892       0.010979   \n",
              "GINI_WoE      -0.003272      -0.036130      -0.002202      -0.017163   \n",
              "\n",
              "                   f_08           f_09  ...           f_20           f_21  \\\n",
              "count     900000.000000  900000.000000  ...  900000.000000  900000.000000   \n",
              "mean           2.057998       2.362431  ...      -0.178730      -0.156307   \n",
              "std            1.590955       1.637706  ...       2.400494       2.484706   \n",
              "min            0.000000       0.000000  ...     -11.257917     -13.310146   \n",
              "25%            1.000000       1.000000  ...      -1.804612      -1.820063   \n",
              "50%            2.000000       2.000000  ...      -0.190571      -0.152668   \n",
              "75%            3.000000       3.000000  ...       1.444508       1.507071   \n",
              "max           16.000000      14.000000  ...      11.475325      14.455426   \n",
              "GINI           0.057267       0.072843  ...      -0.043724       0.128521   \n",
              "GINI_WoE      -0.070877      -0.072333  ...      -0.050502      -0.127494   \n",
              "\n",
              "                   f_22           f_23           f_24           f_25  \\\n",
              "count     900000.000000  900000.000000  900000.000000  900000.000000   \n",
              "mean          -0.009273      -0.369459      -0.342738       0.176549   \n",
              "std            2.450797       2.453405       2.386941       2.416959   \n",
              "min          -11.853530     -12.301097     -11.416189     -11.918306   \n",
              "25%           -1.645585      -2.019739      -1.955956      -1.440424   \n",
              "50%            0.030850      -0.390966      -0.340746       0.160912   \n",
              "75%            1.661676       1.255408       1.266673       1.795928   \n",
              "max           11.344080      12.247100      12.389844      12.529179   \n",
              "GINI           0.060849       0.097623       0.103323      -0.035372   \n",
              "GINI_WoE      -0.060422      -0.115567      -0.103579      -0.055337   \n",
              "\n",
              "                   f_26           f_28           f_29           f_30  \n",
              "count     900000.000000  900000.000000  900000.000000  900000.000000  \n",
              "mean           0.357591      -0.380876       0.345661       1.002654  \n",
              "std            2.476020     238.773054       0.475584       0.818989  \n",
              "min          -14.300577   -1229.753052       0.000000       0.000000  \n",
              "25%           -1.261598    -159.427418       0.000000       0.000000  \n",
              "50%            0.404212      -0.519808       0.000000       1.000000  \n",
              "75%            2.028219     158.987357       1.000000       2.000000  \n",
              "max           12.913041    1229.562577       1.000000       2.000000  \n",
              "GINI           0.042407       0.040419       0.048818       0.022576  \n",
              "GINI_WoE      -0.071637      -0.092741      -0.048818      -0.022576  \n",
              "\n",
              "[10 rows x 30 columns]"
            ]
          },
          "execution_count": 14,
          "metadata": {},
          "output_type": "execute_result"
        }
      ],
      "source": [
        "train_desc.loc['GINI'] = [gini_score(target, train[i]) for i in train.columns[0:30]]\n",
        "train_desc.loc['GINI_WoE'] = [gini_score(target, train[i]) for i in train.columns[30:60]]\n",
        "train_desc"
      ],
      "id": "JmlVllOHDP1_"
    },
    {
      "cell_type": "code",
      "execution_count": null,
      "metadata": {
        "id": "xEGpwIg2DP2A",
        "outputId": "4d0b6d90-43c6-41a7-d1be-6ec5b548b171"
      },
      "outputs": [
        {
          "data": {
            "text/html": [
              "<div>\n",
              "<style scoped>\n",
              "    .dataframe tbody tr th:only-of-type {\n",
              "        vertical-align: middle;\n",
              "    }\n",
              "\n",
              "    .dataframe tbody tr th {\n",
              "        vertical-align: top;\n",
              "    }\n",
              "\n",
              "    .dataframe thead th {\n",
              "        text-align: right;\n",
              "    }\n",
              "</style>\n",
              "<table border=\"1\" class=\"dataframe\">\n",
              "  <thead>\n",
              "    <tr style=\"text-align: right;\">\n",
              "      <th></th>\n",
              "      <th>count</th>\n",
              "      <th>mean</th>\n",
              "      <th>std</th>\n",
              "      <th>min</th>\n",
              "      <th>25%</th>\n",
              "      <th>50%</th>\n",
              "      <th>75%</th>\n",
              "      <th>max</th>\n",
              "      <th>GINI</th>\n",
              "      <th>GINI_WoE</th>\n",
              "    </tr>\n",
              "  </thead>\n",
              "  <tbody>\n",
              "    <tr>\n",
              "      <th>f_21</th>\n",
              "      <td>900000.0</td>\n",
              "      <td>-0.156307</td>\n",
              "      <td>2.484706</td>\n",
              "      <td>-13.310146</td>\n",
              "      <td>-1.820063</td>\n",
              "      <td>-0.152668</td>\n",
              "      <td>1.507071</td>\n",
              "      <td>14.455426</td>\n",
              "      <td>0.128521</td>\n",
              "      <td>-0.127494</td>\n",
              "    </tr>\n",
              "    <tr>\n",
              "      <th>f_23</th>\n",
              "      <td>900000.0</td>\n",
              "      <td>-0.369459</td>\n",
              "      <td>2.453405</td>\n",
              "      <td>-12.301097</td>\n",
              "      <td>-2.019739</td>\n",
              "      <td>-0.390966</td>\n",
              "      <td>1.255408</td>\n",
              "      <td>12.247100</td>\n",
              "      <td>0.097623</td>\n",
              "      <td>-0.115567</td>\n",
              "    </tr>\n",
              "    <tr>\n",
              "      <th>f_24</th>\n",
              "      <td>900000.0</td>\n",
              "      <td>-0.342738</td>\n",
              "      <td>2.386941</td>\n",
              "      <td>-11.416189</td>\n",
              "      <td>-1.955956</td>\n",
              "      <td>-0.340746</td>\n",
              "      <td>1.266673</td>\n",
              "      <td>12.389844</td>\n",
              "      <td>0.103323</td>\n",
              "      <td>-0.103579</td>\n",
              "    </tr>\n",
              "    <tr>\n",
              "      <th>f_19</th>\n",
              "      <td>900000.0</td>\n",
              "      <td>0.308713</td>\n",
              "      <td>2.316026</td>\n",
              "      <td>-11.280941</td>\n",
              "      <td>-1.236061</td>\n",
              "      <td>0.330249</td>\n",
              "      <td>1.880517</td>\n",
              "      <td>12.079667</td>\n",
              "      <td>-0.097240</td>\n",
              "      <td>-0.096972</td>\n",
              "    </tr>\n",
              "    <tr>\n",
              "      <th>f_28</th>\n",
              "      <td>900000.0</td>\n",
              "      <td>-0.380876</td>\n",
              "      <td>238.773054</td>\n",
              "      <td>-1229.753052</td>\n",
              "      <td>-159.427418</td>\n",
              "      <td>-0.519808</td>\n",
              "      <td>158.987357</td>\n",
              "      <td>1229.562577</td>\n",
              "      <td>0.040419</td>\n",
              "      <td>-0.092741</td>\n",
              "    </tr>\n",
              "    <tr>\n",
              "      <th>f_11</th>\n",
              "      <td>900000.0</td>\n",
              "      <td>1.803392</td>\n",
              "      <td>1.537487</td>\n",
              "      <td>0.000000</td>\n",
              "      <td>1.000000</td>\n",
              "      <td>2.000000</td>\n",
              "      <td>3.000000</td>\n",
              "      <td>13.000000</td>\n",
              "      <td>-0.084520</td>\n",
              "      <td>-0.084470</td>\n",
              "    </tr>\n",
              "    <tr>\n",
              "      <th>f_09</th>\n",
              "      <td>900000.0</td>\n",
              "      <td>2.362431</td>\n",
              "      <td>1.637706</td>\n",
              "      <td>0.000000</td>\n",
              "      <td>1.000000</td>\n",
              "      <td>2.000000</td>\n",
              "      <td>3.000000</td>\n",
              "      <td>14.000000</td>\n",
              "      <td>0.072843</td>\n",
              "      <td>-0.072333</td>\n",
              "    </tr>\n",
              "    <tr>\n",
              "      <th>f_26</th>\n",
              "      <td>900000.0</td>\n",
              "      <td>0.357591</td>\n",
              "      <td>2.476020</td>\n",
              "      <td>-14.300577</td>\n",
              "      <td>-1.261598</td>\n",
              "      <td>0.404212</td>\n",
              "      <td>2.028219</td>\n",
              "      <td>12.913041</td>\n",
              "      <td>0.042407</td>\n",
              "      <td>-0.071637</td>\n",
              "    </tr>\n",
              "    <tr>\n",
              "      <th>f_08</th>\n",
              "      <td>900000.0</td>\n",
              "      <td>2.057998</td>\n",
              "      <td>1.590955</td>\n",
              "      <td>0.000000</td>\n",
              "      <td>1.000000</td>\n",
              "      <td>2.000000</td>\n",
              "      <td>3.000000</td>\n",
              "      <td>16.000000</td>\n",
              "      <td>0.057267</td>\n",
              "      <td>-0.070877</td>\n",
              "    </tr>\n",
              "    <tr>\n",
              "      <th>f_00</th>\n",
              "      <td>900000.0</td>\n",
              "      <td>-0.000286</td>\n",
              "      <td>0.998888</td>\n",
              "      <td>-4.599856</td>\n",
              "      <td>-0.675490</td>\n",
              "      <td>0.001144</td>\n",
              "      <td>0.674337</td>\n",
              "      <td>4.749301</td>\n",
              "      <td>0.061267</td>\n",
              "      <td>-0.061232</td>\n",
              "    </tr>\n",
              "    <tr>\n",
              "      <th>f_01</th>\n",
              "      <td>900000.0</td>\n",
              "      <td>0.001165</td>\n",
              "      <td>0.999193</td>\n",
              "      <td>-4.682199</td>\n",
              "      <td>-0.675162</td>\n",
              "      <td>0.002014</td>\n",
              "      <td>0.675021</td>\n",
              "      <td>4.815699</td>\n",
              "      <td>0.060934</td>\n",
              "      <td>-0.060959</td>\n",
              "    </tr>\n",
              "    <tr>\n",
              "      <th>f_22</th>\n",
              "      <td>900000.0</td>\n",
              "      <td>-0.009273</td>\n",
              "      <td>2.450797</td>\n",
              "      <td>-11.853530</td>\n",
              "      <td>-1.645585</td>\n",
              "      <td>0.030850</td>\n",
              "      <td>1.661676</td>\n",
              "      <td>11.344080</td>\n",
              "      <td>0.060849</td>\n",
              "      <td>-0.060422</td>\n",
              "    </tr>\n",
              "    <tr>\n",
              "      <th>f_15</th>\n",
              "      <td>900000.0</td>\n",
              "      <td>2.101132</td>\n",
              "      <td>1.569093</td>\n",
              "      <td>0.000000</td>\n",
              "      <td>1.000000</td>\n",
              "      <td>2.000000</td>\n",
              "      <td>3.000000</td>\n",
              "      <td>14.000000</td>\n",
              "      <td>0.033137</td>\n",
              "      <td>-0.059137</td>\n",
              "    </tr>\n",
              "    <tr>\n",
              "      <th>f_25</th>\n",
              "      <td>900000.0</td>\n",
              "      <td>0.176549</td>\n",
              "      <td>2.416959</td>\n",
              "      <td>-11.918306</td>\n",
              "      <td>-1.440424</td>\n",
              "      <td>0.160912</td>\n",
              "      <td>1.795928</td>\n",
              "      <td>12.529179</td>\n",
              "      <td>-0.035372</td>\n",
              "      <td>-0.055337</td>\n",
              "    </tr>\n",
              "    <tr>\n",
              "      <th>f_20</th>\n",
              "      <td>900000.0</td>\n",
              "      <td>-0.178730</td>\n",
              "      <td>2.400494</td>\n",
              "      <td>-11.257917</td>\n",
              "      <td>-1.804612</td>\n",
              "      <td>-0.190571</td>\n",
              "      <td>1.444508</td>\n",
              "      <td>11.475325</td>\n",
              "      <td>-0.043724</td>\n",
              "      <td>-0.050502</td>\n",
              "    </tr>\n",
              "    <tr>\n",
              "      <th>f_29</th>\n",
              "      <td>900000.0</td>\n",
              "      <td>0.345661</td>\n",
              "      <td>0.475584</td>\n",
              "      <td>0.000000</td>\n",
              "      <td>0.000000</td>\n",
              "      <td>0.000000</td>\n",
              "      <td>1.000000</td>\n",
              "      <td>1.000000</td>\n",
              "      <td>0.048818</td>\n",
              "      <td>-0.048818</td>\n",
              "    </tr>\n",
              "    <tr>\n",
              "      <th>f_10</th>\n",
              "      <td>900000.0</td>\n",
              "      <td>2.177637</td>\n",
              "      <td>1.645953</td>\n",
              "      <td>0.000000</td>\n",
              "      <td>1.000000</td>\n",
              "      <td>2.000000</td>\n",
              "      <td>3.000000</td>\n",
              "      <td>14.000000</td>\n",
              "      <td>-0.046032</td>\n",
              "      <td>-0.046432</td>\n",
              "    </tr>\n",
              "    <tr>\n",
              "      <th>f_13</th>\n",
              "      <td>900000.0</td>\n",
              "      <td>2.239778</td>\n",
              "      <td>1.538426</td>\n",
              "      <td>0.000000</td>\n",
              "      <td>1.000000</td>\n",
              "      <td>2.000000</td>\n",
              "      <td>3.000000</td>\n",
              "      <td>12.000000</td>\n",
              "      <td>-0.038448</td>\n",
              "      <td>-0.038356</td>\n",
              "    </tr>\n",
              "    <tr>\n",
              "      <th>f_16</th>\n",
              "      <td>900000.0</td>\n",
              "      <td>2.096713</td>\n",
              "      <td>1.560169</td>\n",
              "      <td>0.000000</td>\n",
              "      <td>1.000000</td>\n",
              "      <td>2.000000</td>\n",
              "      <td>3.000000</td>\n",
              "      <td>15.000000</td>\n",
              "      <td>-0.036769</td>\n",
              "      <td>-0.037995</td>\n",
              "    </tr>\n",
              "    <tr>\n",
              "      <th>f_05</th>\n",
              "      <td>900000.0</td>\n",
              "      <td>0.000284</td>\n",
              "      <td>0.999875</td>\n",
              "      <td>-4.750214</td>\n",
              "      <td>-0.673437</td>\n",
              "      <td>-0.000438</td>\n",
              "      <td>0.675028</td>\n",
              "      <td>4.971881</td>\n",
              "      <td>0.035976</td>\n",
              "      <td>-0.036130</td>\n",
              "    </tr>\n",
              "    <tr>\n",
              "      <th>f_02</th>\n",
              "      <td>900000.0</td>\n",
              "      <td>0.001174</td>\n",
              "      <td>1.000514</td>\n",
              "      <td>-4.642676</td>\n",
              "      <td>-0.674369</td>\n",
              "      <td>0.002218</td>\n",
              "      <td>0.677505</td>\n",
              "      <td>4.961982</td>\n",
              "      <td>0.034563</td>\n",
              "      <td>-0.034851</td>\n",
              "    </tr>\n",
              "    <tr>\n",
              "      <th>f_14</th>\n",
              "      <td>900000.0</td>\n",
              "      <td>1.514686</td>\n",
              "      <td>1.359213</td>\n",
              "      <td>0.000000</td>\n",
              "      <td>0.000000</td>\n",
              "      <td>1.000000</td>\n",
              "      <td>2.000000</td>\n",
              "      <td>14.000000</td>\n",
              "      <td>-0.008830</td>\n",
              "      <td>-0.025186</td>\n",
              "    </tr>\n",
              "    <tr>\n",
              "      <th>f_12</th>\n",
              "      <td>900000.0</td>\n",
              "      <td>2.842373</td>\n",
              "      <td>1.762835</td>\n",
              "      <td>0.000000</td>\n",
              "      <td>2.000000</td>\n",
              "      <td>3.000000</td>\n",
              "      <td>4.000000</td>\n",
              "      <td>16.000000</td>\n",
              "      <td>-0.005288</td>\n",
              "      <td>-0.024982</td>\n",
              "    </tr>\n",
              "    <tr>\n",
              "      <th>f_30</th>\n",
              "      <td>900000.0</td>\n",
              "      <td>1.002654</td>\n",
              "      <td>0.818989</td>\n",
              "      <td>0.000000</td>\n",
              "      <td>0.000000</td>\n",
              "      <td>1.000000</td>\n",
              "      <td>2.000000</td>\n",
              "      <td>2.000000</td>\n",
              "      <td>0.022576</td>\n",
              "      <td>-0.022576</td>\n",
              "    </tr>\n",
              "    <tr>\n",
              "      <th>f_07</th>\n",
              "      <td>900000.0</td>\n",
              "      <td>2.031460</td>\n",
              "      <td>1.656172</td>\n",
              "      <td>0.000000</td>\n",
              "      <td>1.000000</td>\n",
              "      <td>2.000000</td>\n",
              "      <td>3.000000</td>\n",
              "      <td>15.000000</td>\n",
              "      <td>0.010979</td>\n",
              "      <td>-0.017163</td>\n",
              "    </tr>\n",
              "    <tr>\n",
              "      <th>f_17</th>\n",
              "      <td>900000.0</td>\n",
              "      <td>1.858518</td>\n",
              "      <td>1.467675</td>\n",
              "      <td>0.000000</td>\n",
              "      <td>1.000000</td>\n",
              "      <td>2.000000</td>\n",
              "      <td>3.000000</td>\n",
              "      <td>14.000000</td>\n",
              "      <td>0.006984</td>\n",
              "      <td>-0.015973</td>\n",
              "    </tr>\n",
              "    <tr>\n",
              "      <th>f_18</th>\n",
              "      <td>900000.0</td>\n",
              "      <td>2.065131</td>\n",
              "      <td>1.564783</td>\n",
              "      <td>0.000000</td>\n",
              "      <td>1.000000</td>\n",
              "      <td>2.000000</td>\n",
              "      <td>3.000000</td>\n",
              "      <td>13.000000</td>\n",
              "      <td>-0.013614</td>\n",
              "      <td>-0.013660</td>\n",
              "    </tr>\n",
              "    <tr>\n",
              "      <th>f_04</th>\n",
              "      <td>900000.0</td>\n",
              "      <td>-0.000571</td>\n",
              "      <td>1.000167</td>\n",
              "      <td>-4.748501</td>\n",
              "      <td>-0.675909</td>\n",
              "      <td>-0.001662</td>\n",
              "      <td>0.673789</td>\n",
              "      <td>4.948983</td>\n",
              "      <td>0.000068</td>\n",
              "      <td>-0.003272</td>\n",
              "    </tr>\n",
              "    <tr>\n",
              "      <th>f_06</th>\n",
              "      <td>900000.0</td>\n",
              "      <td>-0.000709</td>\n",
              "      <td>0.999942</td>\n",
              "      <td>-4.842919</td>\n",
              "      <td>-0.674876</td>\n",
              "      <td>-0.001492</td>\n",
              "      <td>0.674749</td>\n",
              "      <td>4.822668</td>\n",
              "      <td>-0.000892</td>\n",
              "      <td>-0.002202</td>\n",
              "    </tr>\n",
              "    <tr>\n",
              "      <th>f_03</th>\n",
              "      <td>900000.0</td>\n",
              "      <td>-0.001368</td>\n",
              "      <td>1.000175</td>\n",
              "      <td>-4.658816</td>\n",
              "      <td>-0.676114</td>\n",
              "      <td>-0.002227</td>\n",
              "      <td>0.672544</td>\n",
              "      <td>4.454920</td>\n",
              "      <td>-0.000044</td>\n",
              "      <td>-0.001428</td>\n",
              "    </tr>\n",
              "  </tbody>\n",
              "</table>\n",
              "</div>"
            ],
            "text/plain": [
              "         count      mean         std          min         25%       50%  \\\n",
              "f_21  900000.0 -0.156307    2.484706   -13.310146   -1.820063 -0.152668   \n",
              "f_23  900000.0 -0.369459    2.453405   -12.301097   -2.019739 -0.390966   \n",
              "f_24  900000.0 -0.342738    2.386941   -11.416189   -1.955956 -0.340746   \n",
              "f_19  900000.0  0.308713    2.316026   -11.280941   -1.236061  0.330249   \n",
              "f_28  900000.0 -0.380876  238.773054 -1229.753052 -159.427418 -0.519808   \n",
              "f_11  900000.0  1.803392    1.537487     0.000000    1.000000  2.000000   \n",
              "f_09  900000.0  2.362431    1.637706     0.000000    1.000000  2.000000   \n",
              "f_26  900000.0  0.357591    2.476020   -14.300577   -1.261598  0.404212   \n",
              "f_08  900000.0  2.057998    1.590955     0.000000    1.000000  2.000000   \n",
              "f_00  900000.0 -0.000286    0.998888    -4.599856   -0.675490  0.001144   \n",
              "f_01  900000.0  0.001165    0.999193    -4.682199   -0.675162  0.002014   \n",
              "f_22  900000.0 -0.009273    2.450797   -11.853530   -1.645585  0.030850   \n",
              "f_15  900000.0  2.101132    1.569093     0.000000    1.000000  2.000000   \n",
              "f_25  900000.0  0.176549    2.416959   -11.918306   -1.440424  0.160912   \n",
              "f_20  900000.0 -0.178730    2.400494   -11.257917   -1.804612 -0.190571   \n",
              "f_29  900000.0  0.345661    0.475584     0.000000    0.000000  0.000000   \n",
              "f_10  900000.0  2.177637    1.645953     0.000000    1.000000  2.000000   \n",
              "f_13  900000.0  2.239778    1.538426     0.000000    1.000000  2.000000   \n",
              "f_16  900000.0  2.096713    1.560169     0.000000    1.000000  2.000000   \n",
              "f_05  900000.0  0.000284    0.999875    -4.750214   -0.673437 -0.000438   \n",
              "f_02  900000.0  0.001174    1.000514    -4.642676   -0.674369  0.002218   \n",
              "f_14  900000.0  1.514686    1.359213     0.000000    0.000000  1.000000   \n",
              "f_12  900000.0  2.842373    1.762835     0.000000    2.000000  3.000000   \n",
              "f_30  900000.0  1.002654    0.818989     0.000000    0.000000  1.000000   \n",
              "f_07  900000.0  2.031460    1.656172     0.000000    1.000000  2.000000   \n",
              "f_17  900000.0  1.858518    1.467675     0.000000    1.000000  2.000000   \n",
              "f_18  900000.0  2.065131    1.564783     0.000000    1.000000  2.000000   \n",
              "f_04  900000.0 -0.000571    1.000167    -4.748501   -0.675909 -0.001662   \n",
              "f_06  900000.0 -0.000709    0.999942    -4.842919   -0.674876 -0.001492   \n",
              "f_03  900000.0 -0.001368    1.000175    -4.658816   -0.676114 -0.002227   \n",
              "\n",
              "             75%          max      GINI  GINI_WoE  \n",
              "f_21    1.507071    14.455426  0.128521 -0.127494  \n",
              "f_23    1.255408    12.247100  0.097623 -0.115567  \n",
              "f_24    1.266673    12.389844  0.103323 -0.103579  \n",
              "f_19    1.880517    12.079667 -0.097240 -0.096972  \n",
              "f_28  158.987357  1229.562577  0.040419 -0.092741  \n",
              "f_11    3.000000    13.000000 -0.084520 -0.084470  \n",
              "f_09    3.000000    14.000000  0.072843 -0.072333  \n",
              "f_26    2.028219    12.913041  0.042407 -0.071637  \n",
              "f_08    3.000000    16.000000  0.057267 -0.070877  \n",
              "f_00    0.674337     4.749301  0.061267 -0.061232  \n",
              "f_01    0.675021     4.815699  0.060934 -0.060959  \n",
              "f_22    1.661676    11.344080  0.060849 -0.060422  \n",
              "f_15    3.000000    14.000000  0.033137 -0.059137  \n",
              "f_25    1.795928    12.529179 -0.035372 -0.055337  \n",
              "f_20    1.444508    11.475325 -0.043724 -0.050502  \n",
              "f_29    1.000000     1.000000  0.048818 -0.048818  \n",
              "f_10    3.000000    14.000000 -0.046032 -0.046432  \n",
              "f_13    3.000000    12.000000 -0.038448 -0.038356  \n",
              "f_16    3.000000    15.000000 -0.036769 -0.037995  \n",
              "f_05    0.675028     4.971881  0.035976 -0.036130  \n",
              "f_02    0.677505     4.961982  0.034563 -0.034851  \n",
              "f_14    2.000000    14.000000 -0.008830 -0.025186  \n",
              "f_12    4.000000    16.000000 -0.005288 -0.024982  \n",
              "f_30    2.000000     2.000000  0.022576 -0.022576  \n",
              "f_07    3.000000    15.000000  0.010979 -0.017163  \n",
              "f_17    3.000000    14.000000  0.006984 -0.015973  \n",
              "f_18    3.000000    13.000000 -0.013614 -0.013660  \n",
              "f_04    0.673789     4.948983  0.000068 -0.003272  \n",
              "f_06    0.674749     4.822668 -0.000892 -0.002202  \n",
              "f_03    0.672544     4.454920 -0.000044 -0.001428  "
            ]
          },
          "execution_count": 15,
          "metadata": {},
          "output_type": "execute_result"
        }
      ],
      "source": [
        "train_desc_T = train_desc.T.sort_values(by='GINI_WoE')\n",
        "train_desc_T"
      ],
      "id": "xEGpwIg2DP2A"
    },
    {
      "cell_type": "code",
      "execution_count": null,
      "metadata": {
        "id": "lNO1Ils5DP2A",
        "outputId": "4f79326a-b66e-4ffd-934a-cf741c29e352"
      },
      "outputs": [
        {
          "data": {
            "text/plain": [
              "Index(['f_21', 'f_23', 'f_24', 'f_19', 'f_28'], dtype='object')"
            ]
          },
          "execution_count": 16,
          "metadata": {},
          "output_type": "execute_result"
        }
      ],
      "source": [
        "train_desc_T.iloc[:5].index"
      ],
      "id": "lNO1Ils5DP2A"
    },
    {
      "cell_type": "markdown",
      "metadata": {
        "id": "n5z60xFODP2A"
      },
      "source": [
        "# Logistic Regression Evaluation\n",
        "\n",
        "### C = 10e10 turn off the regularization\n",
        "### Scoring is a method for model evaluation"
      ],
      "id": "n5z60xFODP2A"
    },
    {
      "cell_type": "code",
      "execution_count": null,
      "metadata": {
        "id": "CEVJ8MS4DP2A",
        "outputId": "9ebf239d-4bdc-40e4-cd91-f79bdfff389b"
      },
      "outputs": [
        {
          "data": {
            "text/plain": [
              "0.25319975105961257"
            ]
          },
          "execution_count": 17,
          "metadata": {},
          "output_type": "execute_result"
        }
      ],
      "source": [
        "top_05_feats = [i+'_WoE' for i in train_desc_T.iloc[:5].index]\n",
        "cross_val_score(LogisticRegression(C=10e10, random_state=42), train[top_05_feats], target, scoring=gini_scoring).mean()"
      ],
      "id": "CEVJ8MS4DP2A"
    },
    {
      "cell_type": "code",
      "execution_count": null,
      "metadata": {
        "id": "6sYT1m48DP2B",
        "outputId": "2996f914-a4e7-49a3-a4f8-2b50840b213a"
      },
      "outputs": [
        {
          "data": {
            "text/plain": [
              "0.314930778622449"
            ]
          },
          "execution_count": 18,
          "metadata": {},
          "output_type": "execute_result"
        }
      ],
      "source": [
        "top_10_feats = [i+'_WoE' for i in train_desc_T.iloc[:10].index]\n",
        "cross_val_score(LogisticRegression(C=10e10, random_state=42), train[top_10_feats], target, scoring=gini_scoring).mean()"
      ],
      "id": "6sYT1m48DP2B"
    },
    {
      "cell_type": "code",
      "execution_count": null,
      "metadata": {
        "id": "8ltR17y-DP2B",
        "outputId": "7bf7abb4-c040-413a-933b-7e2d5cb5cd20"
      },
      "outputs": [
        {
          "data": {
            "text/plain": [
              "0.35523244214529165"
            ]
          },
          "execution_count": 19,
          "metadata": {},
          "output_type": "execute_result"
        }
      ],
      "source": [
        "top_15_feats = [i+'_WoE' for i in train_desc_T.iloc[:15].index]\n",
        "cross_val_score(LogisticRegression(C=10e10, random_state=42), train[top_15_feats], target, scoring=gini_scoring).mean()"
      ],
      "id": "8ltR17y-DP2B"
    },
    {
      "cell_type": "code",
      "execution_count": null,
      "metadata": {
        "id": "vFQNbtceDP2B",
        "outputId": "d384a238-8fe2-405f-e92f-707511283ead"
      },
      "outputs": [
        {
          "data": {
            "text/plain": [
              "0.37216698926162206"
            ]
          },
          "execution_count": 20,
          "metadata": {},
          "output_type": "execute_result"
        }
      ],
      "source": [
        "top_20_feats = [i+'_WoE' for i in train_desc_T.iloc[:20].index]\n",
        "cross_val_score(LogisticRegression(C=10e10, random_state=42), train[top_20_feats], target, scoring=gini_scoring).mean()"
      ],
      "id": "vFQNbtceDP2B"
    },
    {
      "cell_type": "code",
      "execution_count": null,
      "metadata": {
        "id": "LhbzUipHDP2C",
        "outputId": "ad872caa-0664-4975-c20d-37f36713254d"
      },
      "outputs": [
        {
          "data": {
            "text/plain": [
              "0.3791581950879825"
            ]
          },
          "execution_count": 21,
          "metadata": {},
          "output_type": "execute_result"
        }
      ],
      "source": [
        "top_25_feats = [i+'_WoE' for i in train_desc_T.iloc[:25].index]\n",
        "cross_val_score(LogisticRegression(C=10e10, random_state=42), train[top_25_feats], target, scoring=gini_scoring).mean()"
      ],
      "id": "LhbzUipHDP2C"
    },
    {
      "cell_type": "code",
      "execution_count": null,
      "metadata": {
        "id": "1yrknj6fDP2C",
        "outputId": "41b2e2d5-31cb-424b-d867-f634ce0a587e"
      },
      "outputs": [
        {
          "data": {
            "text/plain": [
              "0.37996053559424625"
            ]
          },
          "execution_count": 22,
          "metadata": {},
          "output_type": "execute_result"
        }
      ],
      "source": [
        "top_30_feats = [i+'_WoE' for i in train_desc_T.iloc[:30].index]\n",
        "cross_val_score(LogisticRegression(C=10e10, random_state=42), train[top_30_feats], target, scoring=gini_scoring).mean()"
      ],
      "id": "1yrknj6fDP2C"
    },
    {
      "cell_type": "markdown",
      "metadata": {
        "id": "2HraPbXqDP2C"
      },
      "source": [
        "# Greedy Selection"
      ],
      "id": "2HraPbXqDP2C"
    },
    {
      "cell_type": "code",
      "execution_count": null,
      "metadata": {
        "scrolled": false,
        "id": "giTOfUk5DP2D",
        "outputId": "5c040a2a-1d7c-4299-b4d2-25a5ed9f97ca",
        "colab": {
          "referenced_widgets": [
            "c1e0714c6d4a4954b37b4f8c8ef383dc",
            "f88fbc845e624b38b8b1f2b97c5d4247",
            "943d091a68c34f70a80d6b4104ed5db9",
            "c1d974c3cdeb4ec6a220471440cb729c",
            "6a0a0186eb484865b4f3114d50a6b026",
            "9fa1f4bb20f64c78807e8796e9c398c8",
            "77cc1c01ca2d43ce9a02029324c51914",
            "84936f50577149f9a71c6947c40433b5",
            "9f0adc4e1d514120af21f04ae8f379d8",
            "14178aac94c24f019eee332cb209d38e",
            "74c278fa668d49edab42661defe90c34",
            "40bb11441a17419cb126abbe4525fd6e",
            "c9dc60255e57429fb8ea3daf29b4c530",
            "660f4c6e4cde407cbe5b10dea5a8edcd",
            "1cb887c124a148d2a8cf7d1e71d7c778",
            "258c0d6dce054ba193d5617541f59415",
            "d4de12fcfb4b45239a98d3a3c6ad8193",
            "52b3298a3a4e4897a38e9d0e7908f823",
            "a55f76e41c08485fa3e71ab3bcaa62f0",
            "7deaf16559b44217a3fb9358c024813f",
            "de10b8407693409b8787c2935d150bd9",
            "251cae6d0f134093935930c03d9b9d6e",
            "fe585227b88d42da8f645f1e56666660",
            "94de51a2a6284543a0c866711b8a4088",
            "c82c654c4d3446c6a4321ac937ca3ece"
          ]
        }
      },
      "outputs": [
        {
          "name": "stdout",
          "output_type": "stream",
          "text": [
            "Всего признаков - 30\n"
          ]
        },
        {
          "data": {
            "application/vnd.jupyter.widget-view+json": {
              "model_id": "c1e0714c6d4a4954b37b4f8c8ef383dc",
              "version_major": 2,
              "version_minor": 0
            },
            "text/plain": [
              "  0%|          | 0/30 [00:00<?, ?it/s]"
            ]
          },
          "metadata": {},
          "output_type": "display_data"
        },
        {
          "name": "stdout",
          "output_type": "stream",
          "text": [
            "Уже отобрано признаков - 0 \n",
            "\n"
          ]
        },
        {
          "data": {
            "application/vnd.jupyter.widget-view+json": {
              "model_id": "f88fbc845e624b38b8b1f2b97c5d4247",
              "version_major": 2,
              "version_minor": 0
            },
            "text/plain": [
              "  0%|          | 0/30 [00:00<?, ?it/s]"
            ]
          },
          "metadata": {},
          "output_type": "display_data"
        },
        {
          "name": "stdout",
          "output_type": "stream",
          "text": [
            "============================================================= \n",
            " Отобранные признаки: ['f_21_WoE'] \n",
            " Метрика качества на обучающей выборке: 0.12749356166302395 \n",
            " =============================================================\n",
            "Уже отобрано признаков - 1 \n",
            "\n"
          ]
        },
        {
          "data": {
            "application/vnd.jupyter.widget-view+json": {
              "model_id": "943d091a68c34f70a80d6b4104ed5db9",
              "version_major": 2,
              "version_minor": 0
            },
            "text/plain": [
              "  0%|          | 0/29 [00:00<?, ?it/s]"
            ]
          },
          "metadata": {},
          "output_type": "display_data"
        },
        {
          "name": "stdout",
          "output_type": "stream",
          "text": [
            "============================================================= \n",
            " Отобранные признаки: ['f_21_WoE', 'f_23_WoE'] \n",
            " Метрика качества на обучающей выборке: 0.18944828454239304 \n",
            " =============================================================\n",
            "Уже отобрано признаков - 2 \n",
            "\n"
          ]
        },
        {
          "data": {
            "application/vnd.jupyter.widget-view+json": {
              "model_id": "c1d974c3cdeb4ec6a220471440cb729c",
              "version_major": 2,
              "version_minor": 0
            },
            "text/plain": [
              "  0%|          | 0/28 [00:00<?, ?it/s]"
            ]
          },
          "metadata": {},
          "output_type": "display_data"
        },
        {
          "name": "stdout",
          "output_type": "stream",
          "text": [
            "============================================================= \n",
            " Отобранные признаки: ['f_21_WoE', 'f_23_WoE', 'f_22_WoE'] \n",
            " Метрика качества на обучающей выборке: 0.22981997209638294 \n",
            " =============================================================\n",
            "Уже отобрано признаков - 3 \n",
            "\n"
          ]
        },
        {
          "data": {
            "application/vnd.jupyter.widget-view+json": {
              "model_id": "6a0a0186eb484865b4f3114d50a6b026",
              "version_major": 2,
              "version_minor": 0
            },
            "text/plain": [
              "  0%|          | 0/27 [00:00<?, ?it/s]"
            ]
          },
          "metadata": {},
          "output_type": "display_data"
        },
        {
          "name": "stdout",
          "output_type": "stream",
          "text": [
            "============================================================= \n",
            " Отобранные признаки: ['f_21_WoE', 'f_23_WoE', 'f_22_WoE', 'f_26_WoE'] \n",
            " Метрика качества на обучающей выборке: 0.25674744141149297 \n",
            " =============================================================\n",
            "Уже отобрано признаков - 4 \n",
            "\n"
          ]
        },
        {
          "data": {
            "application/vnd.jupyter.widget-view+json": {
              "model_id": "9fa1f4bb20f64c78807e8796e9c398c8",
              "version_major": 2,
              "version_minor": 0
            },
            "text/plain": [
              "  0%|          | 0/26 [00:00<?, ?it/s]"
            ]
          },
          "metadata": {},
          "output_type": "display_data"
        },
        {
          "name": "stdout",
          "output_type": "stream",
          "text": [
            "============================================================= \n",
            " Отобранные признаки: ['f_21_WoE', 'f_23_WoE', 'f_22_WoE', 'f_26_WoE', 'f_28_WoE'] \n",
            " Метрика качества на обучающей выборке: 0.2764221804762135 \n",
            " =============================================================\n",
            "Уже отобрано признаков - 5 \n",
            "\n"
          ]
        },
        {
          "data": {
            "application/vnd.jupyter.widget-view+json": {
              "model_id": "77cc1c01ca2d43ce9a02029324c51914",
              "version_major": 2,
              "version_minor": 0
            },
            "text/plain": [
              "  0%|          | 0/25 [00:00<?, ?it/s]"
            ]
          },
          "metadata": {},
          "output_type": "display_data"
        },
        {
          "name": "stdout",
          "output_type": "stream",
          "text": [
            "============================================================= \n",
            " Отобранные признаки: ['f_21_WoE', 'f_23_WoE', 'f_22_WoE', 'f_26_WoE', 'f_28_WoE', 'f_19_WoE'] \n",
            " Метрика качества на обучающей выборке: 0.29114103721972495 \n",
            " =============================================================\n",
            "Уже отобрано признаков - 6 \n",
            "\n"
          ]
        },
        {
          "data": {
            "application/vnd.jupyter.widget-view+json": {
              "model_id": "84936f50577149f9a71c6947c40433b5",
              "version_major": 2,
              "version_minor": 0
            },
            "text/plain": [
              "  0%|          | 0/24 [00:00<?, ?it/s]"
            ]
          },
          "metadata": {},
          "output_type": "display_data"
        },
        {
          "name": "stdout",
          "output_type": "stream",
          "text": [
            "============================================================= \n",
            " Отобранные признаки: ['f_21_WoE', 'f_23_WoE', 'f_22_WoE', 'f_26_WoE', 'f_28_WoE', 'f_19_WoE', 'f_11_WoE'] \n",
            " Метрика качества на обучающей выборке: 0.3045386680719142 \n",
            " =============================================================\n",
            "Уже отобрано признаков - 7 \n",
            "\n"
          ]
        },
        {
          "data": {
            "application/vnd.jupyter.widget-view+json": {
              "model_id": "9f0adc4e1d514120af21f04ae8f379d8",
              "version_major": 2,
              "version_minor": 0
            },
            "text/plain": [
              "  0%|          | 0/23 [00:00<?, ?it/s]"
            ]
          },
          "metadata": {},
          "output_type": "display_data"
        },
        {
          "name": "stdout",
          "output_type": "stream",
          "text": [
            "============================================================= \n",
            " Отобранные признаки: ['f_21_WoE', 'f_23_WoE', 'f_22_WoE', 'f_26_WoE', 'f_28_WoE', 'f_19_WoE', 'f_11_WoE', 'f_24_WoE'] \n",
            " Метрика качества на обучающей выборке: 0.3134801677987693 \n",
            " =============================================================\n",
            "Уже отобрано признаков - 8 \n",
            "\n"
          ]
        },
        {
          "data": {
            "application/vnd.jupyter.widget-view+json": {
              "model_id": "14178aac94c24f019eee332cb209d38e",
              "version_major": 2,
              "version_minor": 0
            },
            "text/plain": [
              "  0%|          | 0/22 [00:00<?, ?it/s]"
            ]
          },
          "metadata": {},
          "output_type": "display_data"
        },
        {
          "name": "stdout",
          "output_type": "stream",
          "text": [
            "============================================================= \n",
            " Отобранные признаки: ['f_21_WoE', 'f_23_WoE', 'f_22_WoE', 'f_26_WoE', 'f_28_WoE', 'f_19_WoE', 'f_11_WoE', 'f_24_WoE', 'f_08_WoE'] \n",
            " Метрика качества на обучающей выборке: 0.32240332846309383 \n",
            " =============================================================\n",
            "Уже отобрано признаков - 9 \n",
            "\n"
          ]
        },
        {
          "data": {
            "application/vnd.jupyter.widget-view+json": {
              "model_id": "74c278fa668d49edab42661defe90c34",
              "version_major": 2,
              "version_minor": 0
            },
            "text/plain": [
              "  0%|          | 0/21 [00:00<?, ?it/s]"
            ]
          },
          "metadata": {},
          "output_type": "display_data"
        },
        {
          "name": "stdout",
          "output_type": "stream",
          "text": [
            "============================================================= \n",
            " Отобранные признаки: ['f_21_WoE', 'f_23_WoE', 'f_22_WoE', 'f_26_WoE', 'f_28_WoE', 'f_19_WoE', 'f_11_WoE', 'f_24_WoE', 'f_08_WoE', 'f_09_WoE'] \n",
            " Метрика качества на обучающей выборке: 0.33158596715302213 \n",
            " =============================================================\n",
            "Уже отобрано признаков - 10 \n",
            "\n"
          ]
        },
        {
          "data": {
            "application/vnd.jupyter.widget-view+json": {
              "model_id": "40bb11441a17419cb126abbe4525fd6e",
              "version_major": 2,
              "version_minor": 0
            },
            "text/plain": [
              "  0%|          | 0/20 [00:00<?, ?it/s]"
            ]
          },
          "metadata": {},
          "output_type": "display_data"
        },
        {
          "name": "stdout",
          "output_type": "stream",
          "text": [
            "============================================================= \n",
            " Отобранные признаки: ['f_21_WoE', 'f_23_WoE', 'f_22_WoE', 'f_26_WoE', 'f_28_WoE', 'f_19_WoE', 'f_11_WoE', 'f_24_WoE', 'f_08_WoE', 'f_09_WoE', 'f_15_WoE'] \n",
            " Метрика качества на обучающей выборке: 0.33883720908683324 \n",
            " =============================================================\n",
            "Уже отобрано признаков - 11 \n",
            "\n"
          ]
        },
        {
          "data": {
            "application/vnd.jupyter.widget-view+json": {
              "model_id": "c9dc60255e57429fb8ea3daf29b4c530",
              "version_major": 2,
              "version_minor": 0
            },
            "text/plain": [
              "  0%|          | 0/19 [00:00<?, ?it/s]"
            ]
          },
          "metadata": {},
          "output_type": "display_data"
        },
        {
          "name": "stdout",
          "output_type": "stream",
          "text": [
            "============================================================= \n",
            " Отобранные признаки: ['f_21_WoE', 'f_23_WoE', 'f_22_WoE', 'f_26_WoE', 'f_28_WoE', 'f_19_WoE', 'f_11_WoE', 'f_24_WoE', 'f_08_WoE', 'f_09_WoE', 'f_15_WoE', 'f_29_WoE'] \n",
            " Метрика качества на обучающей выборке: 0.3455516413132602 \n",
            " =============================================================\n",
            "Уже отобрано признаков - 12 \n",
            "\n"
          ]
        },
        {
          "data": {
            "application/vnd.jupyter.widget-view+json": {
              "model_id": "660f4c6e4cde407cbe5b10dea5a8edcd",
              "version_major": 2,
              "version_minor": 0
            },
            "text/plain": [
              "  0%|          | 0/18 [00:00<?, ?it/s]"
            ]
          },
          "metadata": {},
          "output_type": "display_data"
        },
        {
          "name": "stdout",
          "output_type": "stream",
          "text": [
            "============================================================= \n",
            " Отобранные признаки: ['f_21_WoE', 'f_23_WoE', 'f_22_WoE', 'f_26_WoE', 'f_28_WoE', 'f_19_WoE', 'f_11_WoE', 'f_24_WoE', 'f_08_WoE', 'f_09_WoE', 'f_15_WoE', 'f_29_WoE', 'f_16_WoE'] \n",
            " Метрика качества на обучающей выборке: 0.35047364261391967 \n",
            " =============================================================\n",
            "Уже отобрано признаков - 13 \n",
            "\n"
          ]
        },
        {
          "data": {
            "application/vnd.jupyter.widget-view+json": {
              "model_id": "1cb887c124a148d2a8cf7d1e71d7c778",
              "version_major": 2,
              "version_minor": 0
            },
            "text/plain": [
              "  0%|          | 0/17 [00:00<?, ?it/s]"
            ]
          },
          "metadata": {},
          "output_type": "display_data"
        },
        {
          "name": "stdout",
          "output_type": "stream",
          "text": [
            "============================================================= \n",
            " Отобранные признаки: ['f_21_WoE', 'f_23_WoE', 'f_22_WoE', 'f_26_WoE', 'f_28_WoE', 'f_19_WoE', 'f_11_WoE', 'f_24_WoE', 'f_08_WoE', 'f_09_WoE', 'f_15_WoE', 'f_29_WoE', 'f_16_WoE', 'f_20_WoE'] \n",
            " Метрика качества на обучающей выборке: 0.35492891693079276 \n",
            " =============================================================\n",
            "Уже отобрано признаков - 14 \n",
            "\n"
          ]
        },
        {
          "data": {
            "application/vnd.jupyter.widget-view+json": {
              "model_id": "258c0d6dce054ba193d5617541f59415",
              "version_major": 2,
              "version_minor": 0
            },
            "text/plain": [
              "  0%|          | 0/16 [00:00<?, ?it/s]"
            ]
          },
          "metadata": {},
          "output_type": "display_data"
        },
        {
          "name": "stdout",
          "output_type": "stream",
          "text": [
            "============================================================= \n",
            " Отобранные признаки: ['f_21_WoE', 'f_23_WoE', 'f_22_WoE', 'f_26_WoE', 'f_28_WoE', 'f_19_WoE', 'f_11_WoE', 'f_24_WoE', 'f_08_WoE', 'f_09_WoE', 'f_15_WoE', 'f_29_WoE', 'f_16_WoE', 'f_20_WoE', 'f_25_WoE'] \n",
            " Метрика качества на обучающей выборке: 0.3593171070942325 \n",
            " =============================================================\n",
            "Уже отобрано признаков - 15 \n",
            "\n"
          ]
        },
        {
          "data": {
            "application/vnd.jupyter.widget-view+json": {
              "model_id": "d4de12fcfb4b45239a98d3a3c6ad8193",
              "version_major": 2,
              "version_minor": 0
            },
            "text/plain": [
              "  0%|          | 0/15 [00:00<?, ?it/s]"
            ]
          },
          "metadata": {},
          "output_type": "display_data"
        },
        {
          "name": "stdout",
          "output_type": "stream",
          "text": [
            "============================================================= \n",
            " Отобранные признаки: ['f_21_WoE', 'f_23_WoE', 'f_22_WoE', 'f_26_WoE', 'f_28_WoE', 'f_19_WoE', 'f_11_WoE', 'f_24_WoE', 'f_08_WoE', 'f_09_WoE', 'f_15_WoE', 'f_29_WoE', 'f_16_WoE', 'f_20_WoE', 'f_25_WoE', 'f_30_WoE'] \n",
            " Метрика качества на обучающей выборке: 0.3631740396594296 \n",
            " =============================================================\n",
            "Уже отобрано признаков - 16 \n",
            "\n"
          ]
        },
        {
          "data": {
            "application/vnd.jupyter.widget-view+json": {
              "model_id": "52b3298a3a4e4897a38e9d0e7908f823",
              "version_major": 2,
              "version_minor": 0
            },
            "text/plain": [
              "  0%|          | 0/14 [00:00<?, ?it/s]"
            ]
          },
          "metadata": {},
          "output_type": "display_data"
        },
        {
          "name": "stdout",
          "output_type": "stream",
          "text": [
            "============================================================= \n",
            " Отобранные признаки: ['f_21_WoE', 'f_23_WoE', 'f_22_WoE', 'f_26_WoE', 'f_28_WoE', 'f_19_WoE', 'f_11_WoE', 'f_24_WoE', 'f_08_WoE', 'f_09_WoE', 'f_15_WoE', 'f_29_WoE', 'f_16_WoE', 'f_20_WoE', 'f_25_WoE', 'f_30_WoE', 'f_01_WoE'] \n",
            " Метрика качества на обучающей выборке: 0.36672005704328514 \n",
            " =============================================================\n",
            "Уже отобрано признаков - 17 \n",
            "\n"
          ]
        },
        {
          "data": {
            "application/vnd.jupyter.widget-view+json": {
              "model_id": "a55f76e41c08485fa3e71ab3bcaa62f0",
              "version_major": 2,
              "version_minor": 0
            },
            "text/plain": [
              "  0%|          | 0/13 [00:00<?, ?it/s]"
            ]
          },
          "metadata": {},
          "output_type": "display_data"
        },
        {
          "name": "stdout",
          "output_type": "stream",
          "text": [
            "============================================================= \n",
            " Отобранные признаки: ['f_21_WoE', 'f_23_WoE', 'f_22_WoE', 'f_26_WoE', 'f_28_WoE', 'f_19_WoE', 'f_11_WoE', 'f_24_WoE', 'f_08_WoE', 'f_09_WoE', 'f_15_WoE', 'f_29_WoE', 'f_16_WoE', 'f_20_WoE', 'f_25_WoE', 'f_30_WoE', 'f_01_WoE', 'f_00_WoE'] \n",
            " Метрика качества на обучающей выборке: 0.3701954677900543 \n",
            " =============================================================\n",
            "Уже отобрано признаков - 18 \n",
            "\n"
          ]
        },
        {
          "data": {
            "application/vnd.jupyter.widget-view+json": {
              "model_id": "7deaf16559b44217a3fb9358c024813f",
              "version_major": 2,
              "version_minor": 0
            },
            "text/plain": [
              "  0%|          | 0/12 [00:00<?, ?it/s]"
            ]
          },
          "metadata": {},
          "output_type": "display_data"
        },
        {
          "name": "stdout",
          "output_type": "stream",
          "text": [
            "============================================================= \n",
            " Отобранные признаки: ['f_21_WoE', 'f_23_WoE', 'f_22_WoE', 'f_26_WoE', 'f_28_WoE', 'f_19_WoE', 'f_11_WoE', 'f_24_WoE', 'f_08_WoE', 'f_09_WoE', 'f_15_WoE', 'f_29_WoE', 'f_16_WoE', 'f_20_WoE', 'f_25_WoE', 'f_30_WoE', 'f_01_WoE', 'f_00_WoE', 'f_10_WoE'] \n",
            " Метрика качества на обучающей выборке: 0.37286341100937226 \n",
            " =============================================================\n",
            "Уже отобрано признаков - 19 \n",
            "\n"
          ]
        },
        {
          "data": {
            "application/vnd.jupyter.widget-view+json": {
              "model_id": "de10b8407693409b8787c2935d150bd9",
              "version_major": 2,
              "version_minor": 0
            },
            "text/plain": [
              "  0%|          | 0/11 [00:00<?, ?it/s]"
            ]
          },
          "metadata": {},
          "output_type": "display_data"
        },
        {
          "name": "stdout",
          "output_type": "stream",
          "text": [
            "============================================================= \n",
            " Отобранные признаки: ['f_21_WoE', 'f_23_WoE', 'f_22_WoE', 'f_26_WoE', 'f_28_WoE', 'f_19_WoE', 'f_11_WoE', 'f_24_WoE', 'f_08_WoE', 'f_09_WoE', 'f_15_WoE', 'f_29_WoE', 'f_16_WoE', 'f_20_WoE', 'f_25_WoE', 'f_30_WoE', 'f_01_WoE', 'f_00_WoE', 'f_10_WoE', 'f_13_WoE'] \n",
            " Метрика качества на обучающей выборке: 0.3749678194874153 \n",
            " =============================================================\n",
            "Уже отобрано признаков - 20 \n",
            "\n"
          ]
        },
        {
          "data": {
            "application/vnd.jupyter.widget-view+json": {
              "model_id": "251cae6d0f134093935930c03d9b9d6e",
              "version_major": 2,
              "version_minor": 0
            },
            "text/plain": [
              "  0%|          | 0/10 [00:00<?, ?it/s]"
            ]
          },
          "metadata": {},
          "output_type": "display_data"
        },
        {
          "name": "stdout",
          "output_type": "stream",
          "text": [
            "============================================================= \n",
            " Отобранные признаки: ['f_21_WoE', 'f_23_WoE', 'f_22_WoE', 'f_26_WoE', 'f_28_WoE', 'f_19_WoE', 'f_11_WoE', 'f_24_WoE', 'f_08_WoE', 'f_09_WoE', 'f_15_WoE', 'f_29_WoE', 'f_16_WoE', 'f_20_WoE', 'f_25_WoE', 'f_30_WoE', 'f_01_WoE', 'f_00_WoE', 'f_10_WoE', 'f_13_WoE', 'f_12_WoE'] \n",
            " Метрика качества на обучающей выборке: 0.37626978856447146 \n",
            " =============================================================\n",
            "Уже отобрано признаков - 21 \n",
            "\n"
          ]
        },
        {
          "data": {
            "application/vnd.jupyter.widget-view+json": {
              "model_id": "fe585227b88d42da8f645f1e56666660",
              "version_major": 2,
              "version_minor": 0
            },
            "text/plain": [
              "  0%|          | 0/9 [00:00<?, ?it/s]"
            ]
          },
          "metadata": {},
          "output_type": "display_data"
        },
        {
          "name": "stdout",
          "output_type": "stream",
          "text": [
            "============================================================= \n",
            " Отобранные признаки: ['f_21_WoE', 'f_23_WoE', 'f_22_WoE', 'f_26_WoE', 'f_28_WoE', 'f_19_WoE', 'f_11_WoE', 'f_24_WoE', 'f_08_WoE', 'f_09_WoE', 'f_15_WoE', 'f_29_WoE', 'f_16_WoE', 'f_20_WoE', 'f_25_WoE', 'f_30_WoE', 'f_01_WoE', 'f_00_WoE', 'f_10_WoE', 'f_13_WoE', 'f_12_WoE', 'f_05_WoE'] \n",
            " Метрика качества на обучающей выборке: 0.37732765511163247 \n",
            " =============================================================\n",
            "Уже отобрано признаков - 22 \n",
            "\n"
          ]
        },
        {
          "data": {
            "application/vnd.jupyter.widget-view+json": {
              "model_id": "94de51a2a6284543a0c866711b8a4088",
              "version_major": 2,
              "version_minor": 0
            },
            "text/plain": [
              "  0%|          | 0/8 [00:00<?, ?it/s]"
            ]
          },
          "metadata": {},
          "output_type": "display_data"
        },
        {
          "name": "stdout",
          "output_type": "stream",
          "text": [
            "============================================================= \n",
            " Отобранные признаки: ['f_21_WoE', 'f_23_WoE', 'f_22_WoE', 'f_26_WoE', 'f_28_WoE', 'f_19_WoE', 'f_11_WoE', 'f_24_WoE', 'f_08_WoE', 'f_09_WoE', 'f_15_WoE', 'f_29_WoE', 'f_16_WoE', 'f_20_WoE', 'f_25_WoE', 'f_30_WoE', 'f_01_WoE', 'f_00_WoE', 'f_10_WoE', 'f_13_WoE', 'f_12_WoE', 'f_05_WoE', 'f_02_WoE'] \n",
            " Метрика качества на обучающей выборке: 0.37835955558412326 \n",
            " =============================================================\n",
            "Уже отобрано признаков - 23 \n",
            "\n"
          ]
        },
        {
          "data": {
            "application/vnd.jupyter.widget-view+json": {
              "model_id": "c82c654c4d3446c6a4321ac937ca3ece",
              "version_major": 2,
              "version_minor": 0
            },
            "text/plain": [
              "  0%|          | 0/7 [00:00<?, ?it/s]"
            ]
          },
          "metadata": {},
          "output_type": "display_data"
        },
        {
          "name": "stdout",
          "output_type": "stream",
          "text": [
            "Метрика качества больше не улучшается. Все посчиталось. Поздравляю!\n"
          ]
        }
      ],
      "source": [
        "from greedy_selection import *\n",
        "\n",
        "feats = train.columns[30:60]\n",
        "\n",
        "model = GreedySelector(X=train[feats], y=target, model=LogisticRegression(C=10e10, random_state=42),\n",
        "                       n_folds=5, random_state=42, predict='predict_proba', improvement=0.001,\n",
        "                       metric=gini_score, higher_is_better=True)"
      ],
      "id": "giTOfUk5DP2D"
    },
    {
      "cell_type": "code",
      "execution_count": null,
      "metadata": {
        "id": "r9a4uMYPDP2D"
      },
      "outputs": [],
      "source": [
        ""
      ],
      "id": "r9a4uMYPDP2D"
    }
  ],
  "metadata": {
    "kernelspec": {
      "display_name": "Python 3",
      "language": "python",
      "name": "python3"
    },
    "language_info": {
      "codemirror_mode": {
        "name": "ipython",
        "version": 3
      },
      "file_extension": ".py",
      "mimetype": "text/x-python",
      "name": "python",
      "nbconvert_exporter": "python",
      "pygments_lexer": "ipython3",
      "version": "3.7.3"
    },
    "colab": {
      "name": "Task2_unicredit_changellenge.ipynb",
      "provenance": [],
      "include_colab_link": true
    }
  },
  "nbformat": 4,
  "nbformat_minor": 5
}